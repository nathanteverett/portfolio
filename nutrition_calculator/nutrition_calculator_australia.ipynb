{
 "cells": [
  {
   "cell_type": "markdown",
   "metadata": {},
   "source": [
    "# Nutrition Calculator  - Australian Food Composition Database"
   ]
  },
  {
   "cell_type": "markdown",
   "metadata": {},
   "source": [
    "#### Mission Statement\n",
    "The goal of this project is to analyze commonly consumed foods and gain a deep understanding of nutrition content of foods. We are often told to eat a balanced diet and get most of our vitamins and minerals from food sources when possible. However, rarely does anyone track these micronutrients. I want to gain an understanding of how easy it is to satisfy the recommended requirements and understand which foods make this easier. By finding the most nutrient dense foods, foods that have the rarest nutrients, and what foods together complete our daily requirements, I hope to build a complete lifestyle diet for myself.\n"
   ]
  },
  {
   "cell_type": "markdown",
   "metadata": {},
   "source": [
    "#### Data sources\n",
    "nutrition data: https://www.foodstandards.gov.au/science-data/monitoringnutrients/afcd \n",
    "<br> recommended intake data: https://www.myfooddata.com/articles/recommended-daily-intakes.php"
   ]
  },
  {
   "cell_type": "markdown",
   "metadata": {},
   "source": [
    "#### To Do:<br>\n",
    "<ins>Data Cleaning</ins>\n",
    "- Advanced imputation method on micronutrient NaN's\n",
    "- Add omega 6s properly\n",
    "- [Expanded Model] Add nutrients back in with improved data imputation\n",
    "    - Amino acids\n",
    "    - Sugars\n",
    "  \n",
    "<br><ins>Modeling</ins>\n",
    "- Use classifier trained on recipe file to make appropraite food portions\n",
    "    - Use this to adjust lin prog restrictions\n",
    "- Optimize lin prog w.r.t.\n",
    "    - Protein\n",
    "    - Fiber\n",
    "    - Calories\n",
    "- Make macro goals variable for function\n",
    "- Classify healthy/unhealthy foods based on nutrient profile\n",
    "\n",
    "<br><ins>Exploratory Data Analysis</ins>\n",
    "- Correlate micros and macros\n",
    "    - Correlate nutrient score with macro nutrients"
   ]
  },
  {
   "cell_type": "code",
   "execution_count": 1,
   "metadata": {},
   "outputs": [],
   "source": [
    "import pandas as pd\n",
    "import numpy as np\n",
    "import matplotlib.pyplot as plt\n",
    "import seaborn as sns\n",
    "import os\n",
    "sns.set()\n",
    "%matplotlib inline"
   ]
  },
  {
   "cell_type": "code",
   "execution_count": 2,
   "metadata": {},
   "outputs": [
    {
     "name": "stdout",
     "output_type": "stream",
     "text": [
      "Index(['Lysine'], dtype='object')\n"
     ]
    }
   ],
   "source": [
    "# Regex debugger #\n",
    "pattern = r'\\s?\\n\\(.+\\)'\n",
    "df = pd.DataFrame({'Lysine \\n(mg)':[1,2]})\n",
    "new_cols = df.columns.str.replace(pattern, '', regex=True)\n",
    "print(new_cols)"
   ]
  },
  {
   "cell_type": "code",
   "execution_count": 3,
   "metadata": {},
   "outputs": [
    {
     "data": {
      "text/html": [
       "<div>\n",
       "<style scoped>\n",
       "    .dataframe tbody tr th:only-of-type {\n",
       "        vertical-align: middle;\n",
       "    }\n",
       "\n",
       "    .dataframe tbody tr th {\n",
       "        vertical-align: top;\n",
       "    }\n",
       "\n",
       "    .dataframe thead th {\n",
       "        text-align: right;\n",
       "    }\n",
       "</style>\n",
       "<table border=\"1\" class=\"dataframe\">\n",
       "  <thead>\n",
       "    <tr style=\"text-align: right;\">\n",
       "      <th></th>\n",
       "      <th>RDI</th>\n",
       "      <th>DV</th>\n",
       "      <th>UL</th>\n",
       "    </tr>\n",
       "    <tr>\n",
       "      <th>Nutrient</th>\n",
       "      <th></th>\n",
       "      <th></th>\n",
       "      <th></th>\n",
       "    </tr>\n",
       "  </thead>\n",
       "  <tbody>\n",
       "    <tr>\n",
       "      <th>Calories</th>\n",
       "      <td>2000</td>\n",
       "      <td>2000</td>\n",
       "      <td>NaN</td>\n",
       "    </tr>\n",
       "    <tr>\n",
       "      <th>Fat</th>\n",
       "      <td>NaN</td>\n",
       "      <td>78g</td>\n",
       "      <td>NaN</td>\n",
       "    </tr>\n",
       "    <tr>\n",
       "      <th>Saturated Fat</th>\n",
       "      <td>NaN</td>\n",
       "      <td>20g</td>\n",
       "      <td>NaN</td>\n",
       "    </tr>\n",
       "    <tr>\n",
       "      <th>Cholesterol</th>\n",
       "      <td>NaN</td>\n",
       "      <td>300mg</td>\n",
       "      <td>NaN</td>\n",
       "    </tr>\n",
       "    <tr>\n",
       "      <th>Carbs</th>\n",
       "      <td>130g</td>\n",
       "      <td>275g</td>\n",
       "      <td>NaN</td>\n",
       "    </tr>\n",
       "  </tbody>\n",
       "</table>\n",
       "</div>"
      ],
      "text/plain": [
       "                RDI     DV   UL\n",
       "Nutrient                       \n",
       "Calories       2000   2000  NaN\n",
       "Fat             NaN    78g  NaN\n",
       "Saturated Fat   NaN    20g  NaN\n",
       "Cholesterol     NaN  300mg  NaN\n",
       "Carbs          130g   275g  NaN"
      ]
     },
     "execution_count": 3,
     "metadata": {},
     "output_type": "execute_result"
    }
   ],
   "source": [
    "# Import food and nutrition data #\n",
    "\n",
    "food = pd.read_excel('Australian_Food_Composition_Database/Food Details.xlsx') \n",
    "nutrient = pd.read_excel('Australian_Food_Composition_Database/Nutrient file.xlsx',\n",
    "                         sheet_name='All solids & liquids per 100g')\n",
    "\n",
    "## Need to drop percent fatty acid content, not necessary for calculation and data cleaning causes repition ##\n",
    "nutrient = nutrient.drop(columns = ['Total polyunsaturated fatty acids, equated (%T)', \n",
    "                          'Total long chain omega 3 fatty acids, equated \\n(%T)'])\n",
    "## Import Daily Value (DV) ##\n",
    "\n",
    "dv = pd.read_csv('daily value.csv', index_col=0)\n",
    "dv.head()"
   ]
  },
  {
   "cell_type": "code",
   "execution_count": 4,
   "metadata": {},
   "outputs": [
    {
     "data": {
      "text/plain": [
       "array(['Public Food Key', 'Classification', 'Food Name',\n",
       "       'Energy with dietary fibre, equated \\n(kJ)',\n",
       "       'Energy, without dietary fibre, equated \\n(kJ)',\n",
       "       'Moisture (water) \\n(g)', 'Protein \\n(g)', 'Nitrogen \\n(g)',\n",
       "       'Fat, total \\n(g)', 'Ash \\n(g)', 'Total dietary fibre \\n(g)',\n",
       "       'Alcohol \\n(g)', 'Fructose \\n(g)', 'Glucose \\n(g)', 'Sucrose\\n(g)',\n",
       "       'Maltose \\n(g)', 'Lactose \\n(g)', 'Galactose \\n(g)',\n",
       "       'Maltotrios \\n(g)', 'Total sugars (g)', 'Added sugars (g)',\n",
       "       'Free sugars \\n(g)', 'Starch \\n(g)', 'Dextrin \\n(g)',\n",
       "       'Glycerol \\n(g)', 'Glycogen \\n(g)', 'Inulin \\n(g)',\n",
       "       'Erythritol \\n(g)', 'Maltitol \\n(g)', 'Mannitol \\n(g)',\n",
       "       'Xylitol \\n(g)', 'Maltodextrin (g)', 'Oligosaccharides  \\n(g)',\n",
       "       'Polydextrose \\n(g)', 'Raffinose \\n(g)', 'Stachyose \\n(g)',\n",
       "       'Sorbitol \\n(g)', 'Resistant starch \\n(g)',\n",
       "       'Available carbohydrate, without sugar alcohols \\n(g)',\n",
       "       'Available carbohydrate, with sugar alcohols \\n(g)',\n",
       "       'Acetic acid \\n(g)', 'Citric acid \\n(g)', 'Fumaric acid \\n(g)',\n",
       "       'Lactic acid \\n(g)', 'Malic acid\\n (g)', 'Oxalic acid \\n(g)',\n",
       "       'Propionic acid \\n(g)', 'Quinic acid \\n(g)', 'Shikimic acid \\n(g)',\n",
       "       'Succinic acid \\n(g)', 'Tartaric acid \\n(g)',\n",
       "       'Aluminium (Al) \\n(ug)', 'Antimony (Sb) \\n(ug)',\n",
       "       'Arsenic (As) \\n(ug)', 'Cadmium (Cd) \\n(ug)',\n",
       "       'Calcium (Ca) \\n(mg)', 'Chromium (Cr) \\n(ug)',\n",
       "       'Chloride (Cl) \\n(mg)', 'Cobalt (Co) \\n(ug)', 'Copper (Cu) \\n(mg)',\n",
       "       'Fluoride (F) \\n(ug)', 'Iodine (I) \\n(ug)', 'Iron (Fe) \\n(mg)',\n",
       "       'Lead (Pb) \\n(ug)', 'Magnesium (Mg) \\n(mg)',\n",
       "       'Manganese (Mn) \\n(mg)', 'Mercury (Hg) \\n(ug)',\n",
       "       'Molybdenum (Mo) \\n(ug)', 'Nickel (Ni) \\n(ug)',\n",
       "       'Phosphorus (P) \\n(mg)', 'Potassium (K) \\n(mg)',\n",
       "       'Selenium (Se) \\n(ug)', 'Sodium (Na) \\n(mg)', 'Sulphur (S) \\n(mg)',\n",
       "       'Tin (Sn) \\n(ug)', 'Zinc (Zn) \\n(mg)',\n",
       "       'Retinol (preformed vitamin A) \\n(ug)', 'Alpha-carotene \\n(ug)',\n",
       "       'Beta-carotene \\n(ug)', 'Cryptoxanthin \\n(ug)',\n",
       "       'Beta-carotene equivalents (provitamin A) \\n(ug)',\n",
       "       'Vitamin A retinol equivalents \\n(ug)', 'Lutein \\n(ug)',\n",
       "       'Lycopene \\n(ug)', 'Xanthophyl \\n(ug)', 'Thiamin (B1) \\n(mg)',\n",
       "       'Riboflavin (B2) \\n(mg)', 'Niacin (B3) \\n(mg)',\n",
       "       'Niacin derived from tryptophan \\n(mg)',\n",
       "       'Niacin derived equivalents \\n(mg)',\n",
       "       'Pantothenic acid (B5) \\n(mg)', 'Pyridoxine (B6) \\n(mg)',\n",
       "       'Biotin (B7) \\n(ug)', 'Cobalamin (B12) \\n(ug)',\n",
       "       'Folate, natural \\n(ug)', 'Folic acid \\n(ug)',\n",
       "       'Total folates \\n(ug)', 'Dietary folate equivalents \\n(ug)',\n",
       "       'Vitamin C \\n(mg)', 'Cholecalciferol (D3) \\n(ug)',\n",
       "       'Ergocalciferol (D2) \\n(ug)',\n",
       "       '25-hydroxy cholecalciferol (25-OH D3) \\n(ug)',\n",
       "       '25-hydroxy ergocalciferol (25-OH D2) \\n(ug)',\n",
       "       'Vitamin D3 equivalents \\n(ug)', 'Alpha tocopherol \\n(mg)',\n",
       "       'Alpha tocotrienol \\n(mg)', 'Beta tocopherol \\n(mg)',\n",
       "       'Beta tocotrienol \\n(mg)', 'Delta tocopherol \\n(mg)',\n",
       "       'Delta tocotrienol \\n(mg)', 'Gamma tocopherol \\n(mg)',\n",
       "       'Gamma tocotrienol \\n(mg)', 'Vitamin E \\n(mg)', 'C4 (%T)',\n",
       "       'C6 (%T)', 'C8 (%T)', 'C10 (%T)', 'C11 (%T)', 'C12 (%T)',\n",
       "       'C13 (%T)', 'C14 (%T)', 'C15 (%T)', 'C16 (%T)', 'C17 (%T)',\n",
       "       'C18 (%T)', 'C19 (%T)', 'C20 (%T)', 'C21 (%T)', 'C22 (%T)',\n",
       "       'C23 (%T)', 'C24 (%T)',\n",
       "       'Total saturated fatty acids, equated (%T)', 'C10:1 (%T)',\n",
       "       'C12:1 (%T)', 'C14:1 (%T)', 'C15:1 (%T)', 'C16:1 (%T)',\n",
       "       'C17:1 (%T)', 'C18:1 (%T)', 'C18:1w5 (%T)', 'C18:1w6 (%T)',\n",
       "       'C18:1w7 (%T)', 'C18:1w9 (%T)', 'C20:1 (%T)', 'C20:1w9 (%T)',\n",
       "       'C20:1w13 (%T)', 'C20:1w11 (%T)', 'C22:1 (%T)', 'C22:1w9 (%T)',\n",
       "       'C22:1w11 (%T)', 'C24:1 (%T)', 'C24:1w9 (%T)', 'C24:1w11 (%T)',\n",
       "       'C24:1w13 (%T)', 'Total monounsaturated fatty acids, equated (%T)',\n",
       "       'C12:2 (%T)', 'C16:2w4 (%T)', 'C16:3 (%T)', 'C18:2w6 (%T)',\n",
       "       'C18:3w3 (%T)', 'C18:3w4 (%T)', 'C18:3w6 (%T)', 'C18:4w1 (%T)',\n",
       "       'C18:4w3 (%T)', 'C20:2 (%T)', 'C20:2w6 (%T)', 'C20:3 (%T)',\n",
       "       'C20:4 (%T)', 'C20:3w3 (%T)', 'C20:3w6 (%T)', 'C20:4w3 (%T)',\n",
       "       'C20:4w6 (%T)', 'C20:5w3 (%T)', 'C21:5w3 (%T)', 'C22:2 (%T)',\n",
       "       'C22:2w6 (%T)', 'C22:4w6 (%T)', 'C22:5w3 (%T)', 'C22:5w6 (%T)',\n",
       "       'C22:6w3 (%T)', 'Total undifferentiated fatty acids \\n(%T)',\n",
       "       'Total trans fatty acids, imputed \\n(%T)', 'C4 (g)', 'C6 (g)',\n",
       "       'C8 (g)', 'C10 (g)', 'C11 (g)', 'C12 (g)', 'C13 (g)', 'C14 (g)',\n",
       "       'C15 (g)', 'C16 (g)', 'C17 (g)', 'C18 (g)', 'C19 (g)', 'C20 (g)',\n",
       "       'C21 (g)', 'C22 (g)', 'C23 (g)', 'C24 (g)',\n",
       "       'Total saturated fatty acids, equated \\n(g)', 'C10:1 (g)',\n",
       "       'C12:1 (g)', 'C14:1 (g)', 'C15:1 (g)', 'C16:1 (g)', 'C17:1 (g)',\n",
       "       'C18:1 (g)', 'C18:1w5 (mg)', 'C18:1w6 (mg)', 'C18:1w7 (g)',\n",
       "       'C18:1w9 (mg)', 'C20:1 (g)', 'C20:1w9 (mg)', 'C20:1w13 (mg)',\n",
       "       'C20:1w11 (mg)', 'C22:1 (g)', 'C22:1w9 (mg)', 'C22:1w11 (mg)',\n",
       "       'C24:1 (g)', 'C24:1w9 (mg)', 'C24:1w11 (mg)', 'C24:1w13 (mg)',\n",
       "       'Total monounsaturated fatty acids, equated \\n(g)', 'C12:2 (g)',\n",
       "       'C16:2w4 (mg)', 'C16:3 (g)', 'C18:2w6 (g)', 'C18:3w3 (g)',\n",
       "       'C18:3w4 (g)', 'C18:3w6 (mg)', 'C18:4w1 (g)', 'C18:4w3 (mg)',\n",
       "       'C20:2 (mg)', 'C20:2w6 (mg)', 'C20:3 (mg)', 'C20:3w3 (mg)',\n",
       "       'C20:3w6 (mg)', 'C20:4 (g)', 'C20:4w3 (mg)', 'C20:4w6 (mg)',\n",
       "       'C20:5w3 (mg)', 'C21:5w3 (g)', 'C22:5w3 (mg)', 'C22:4w6 (mg)',\n",
       "       'C22:2 (g)', 'C22:2w6 (mg)', 'C22:5w6 (g)', 'C22:6w3 (mg)',\n",
       "       'Total polyunsaturated fatty acids, equated \\n(g)',\n",
       "       'Total long chain omega 3 fatty acids, equated \\n(mg)',\n",
       "       'Total undifferentiated fatty acids, mass basis basis \\n(mg)',\n",
       "       'Total trans fatty acids, imputed \\n(mg)', 'Caffeine \\n(mg)',\n",
       "       'Cholesterol \\n(mg)', 'Alanine \\n(mg/gN)', 'Arginine \\n(mg/gN)',\n",
       "       'Aspartic acid \\n(mg/gN)', 'Cystine plus cysteine \\n(mg/gN)',\n",
       "       'Glutamic acid \\n(mg/gN)', 'Glycine \\n(mg/gN)',\n",
       "       'Histidine \\n(mg/gN)', 'Isoleucine \\n(mg/gN)', 'Leucine \\n(mg/gN)',\n",
       "       'Lysine \\n(mg/gN)', 'Methionine \\n(mg/gN)',\n",
       "       'Phenylalanine \\n(mg/gN)', 'Proline \\n(mg/gN)', 'Serine \\n(mg/gN)',\n",
       "       'Threonine \\n(mg/gN)', 'Tyrosine \\n(mg/gN)',\n",
       "       'Tryptophan \\n(mg/gN)', 'Valine \\n(mg/gN)', 'Alanine \\n(mg)',\n",
       "       'Arginine \\n(mg)', 'Aspartic acid \\n(mg)',\n",
       "       'Cystine plus cysteine \\n(mg)', 'Glutamic acid \\n(mg)',\n",
       "       'Glycine \\n(mg)', 'Histidine \\n(mg)', 'Isoleucine \\n(mg)',\n",
       "       'Leucine \\n(mg)', 'Lysine \\n(mg)', 'Methionine \\n(mg)',\n",
       "       'Phenylalanine \\n(mg)', 'Proline \\n(mg)', 'Serine \\n(mg)',\n",
       "       'Threonine \\n(mg)', 'Tyrosine \\n(mg)', 'Tryptophan \\n(mg)',\n",
       "       'Valine \\n(mg)'], dtype=object)"
      ]
     },
     "execution_count": 4,
     "metadata": {},
     "output_type": "execute_result"
    }
   ],
   "source": [
    "np.asarray(nutrient.columns)"
   ]
  },
  {
   "cell_type": "code",
   "execution_count": 5,
   "metadata": {},
   "outputs": [
    {
     "name": "stdout",
     "output_type": "stream",
     "text": [
      "Number of columns in df before drop: 291\n",
      "Number of columns with % in header: 69\n",
      "Number of columns after dropping %: 222\n",
      "Number of columns with /gN in header: 18\n",
      "Number of columns after dropping /gN: 204\n"
     ]
    }
   ],
   "source": [
    "## Need to drop percent content columns. Not relevant to goal and causing duplicate columns later on ##\n",
    "print(\"Number of columns in df before drop:\", len(nutrient.columns))\n",
    "\n",
    "percent_pattern = r'\\(%\\w+\\)'\n",
    "percent_cols = nutrient.columns.str.contains(percent_pattern)\n",
    "print(\"Number of columns with % in header:\", percent_cols.sum())\n",
    "nutrient = nutrient.drop(columns = nutrient.columns[percent_cols])\n",
    "print(\"Number of columns after dropping %:\", len(nutrient.columns))\n",
    "\n",
    "gN_pattern = r'\\/gN'\n",
    "gN_cols = nutrient.columns.str.contains(gN_pattern)\n",
    "print(\"Number of columns with /gN in header:\", gN_cols.sum())\n",
    "nutrient = nutrient.drop(columns = nutrient.columns[gN_cols])\n",
    "print(\"Number of columns after dropping /gN:\", len(nutrient.columns))"
   ]
  },
  {
   "cell_type": "code",
   "execution_count": 6,
   "metadata": {
    "scrolled": true
   },
   "outputs": [
    {
     "data": {
      "text/plain": [
       "array(['Public Food Key', 'Classification', 'Food Name',\n",
       "       'Energy with dietary fibre, equated \\n(kJ)',\n",
       "       'Energy, without dietary fibre, equated \\n(kJ)',\n",
       "       'Moisture (water) \\n(g)', 'Protein \\n(g)', 'Nitrogen \\n(g)',\n",
       "       'Fat, total \\n(g)', 'Ash \\n(g)', 'Total dietary fibre \\n(g)',\n",
       "       'Alcohol \\n(g)', 'Fructose \\n(g)', 'Glucose \\n(g)', 'Sucrose\\n(g)',\n",
       "       'Maltose \\n(g)', 'Lactose \\n(g)', 'Galactose \\n(g)',\n",
       "       'Maltotrios \\n(g)', 'Total sugars (g)', 'Added sugars (g)',\n",
       "       'Free sugars \\n(g)', 'Starch \\n(g)', 'Dextrin \\n(g)',\n",
       "       'Glycerol \\n(g)', 'Glycogen \\n(g)', 'Inulin \\n(g)',\n",
       "       'Erythritol \\n(g)', 'Maltitol \\n(g)', 'Mannitol \\n(g)',\n",
       "       'Xylitol \\n(g)', 'Maltodextrin (g)', 'Oligosaccharides  \\n(g)',\n",
       "       'Polydextrose \\n(g)', 'Raffinose \\n(g)', 'Stachyose \\n(g)',\n",
       "       'Sorbitol \\n(g)', 'Resistant starch \\n(g)',\n",
       "       'Available carbohydrate, without sugar alcohols \\n(g)',\n",
       "       'Available carbohydrate, with sugar alcohols \\n(g)',\n",
       "       'Acetic acid \\n(g)', 'Citric acid \\n(g)', 'Fumaric acid \\n(g)',\n",
       "       'Lactic acid \\n(g)', 'Malic acid\\n (g)', 'Oxalic acid \\n(g)',\n",
       "       'Propionic acid \\n(g)', 'Quinic acid \\n(g)', 'Shikimic acid \\n(g)',\n",
       "       'Succinic acid \\n(g)', 'Tartaric acid \\n(g)',\n",
       "       'Aluminium (Al) \\n(ug)', 'Antimony (Sb) \\n(ug)',\n",
       "       'Arsenic (As) \\n(ug)', 'Cadmium (Cd) \\n(ug)',\n",
       "       'Calcium (Ca) \\n(mg)', 'Chromium (Cr) \\n(ug)',\n",
       "       'Chloride (Cl) \\n(mg)', 'Cobalt (Co) \\n(ug)', 'Copper (Cu) \\n(mg)',\n",
       "       'Fluoride (F) \\n(ug)', 'Iodine (I) \\n(ug)', 'Iron (Fe) \\n(mg)',\n",
       "       'Lead (Pb) \\n(ug)', 'Magnesium (Mg) \\n(mg)',\n",
       "       'Manganese (Mn) \\n(mg)', 'Mercury (Hg) \\n(ug)',\n",
       "       'Molybdenum (Mo) \\n(ug)', 'Nickel (Ni) \\n(ug)',\n",
       "       'Phosphorus (P) \\n(mg)', 'Potassium (K) \\n(mg)',\n",
       "       'Selenium (Se) \\n(ug)', 'Sodium (Na) \\n(mg)', 'Sulphur (S) \\n(mg)',\n",
       "       'Tin (Sn) \\n(ug)', 'Zinc (Zn) \\n(mg)',\n",
       "       'Retinol (preformed vitamin A) \\n(ug)', 'Alpha-carotene \\n(ug)',\n",
       "       'Beta-carotene \\n(ug)', 'Cryptoxanthin \\n(ug)',\n",
       "       'Beta-carotene equivalents (provitamin A) \\n(ug)',\n",
       "       'Vitamin A retinol equivalents \\n(ug)', 'Lutein \\n(ug)',\n",
       "       'Lycopene \\n(ug)', 'Xanthophyl \\n(ug)', 'Thiamin (B1) \\n(mg)',\n",
       "       'Riboflavin (B2) \\n(mg)', 'Niacin (B3) \\n(mg)',\n",
       "       'Niacin derived from tryptophan \\n(mg)',\n",
       "       'Niacin derived equivalents \\n(mg)',\n",
       "       'Pantothenic acid (B5) \\n(mg)', 'Pyridoxine (B6) \\n(mg)',\n",
       "       'Biotin (B7) \\n(ug)', 'Cobalamin (B12) \\n(ug)',\n",
       "       'Folate, natural \\n(ug)', 'Folic acid \\n(ug)',\n",
       "       'Total folates \\n(ug)', 'Dietary folate equivalents \\n(ug)',\n",
       "       'Vitamin C \\n(mg)', 'Cholecalciferol (D3) \\n(ug)',\n",
       "       'Ergocalciferol (D2) \\n(ug)',\n",
       "       '25-hydroxy cholecalciferol (25-OH D3) \\n(ug)',\n",
       "       '25-hydroxy ergocalciferol (25-OH D2) \\n(ug)',\n",
       "       'Vitamin D3 equivalents \\n(ug)', 'Alpha tocopherol \\n(mg)',\n",
       "       'Alpha tocotrienol \\n(mg)', 'Beta tocopherol \\n(mg)',\n",
       "       'Beta tocotrienol \\n(mg)', 'Delta tocopherol \\n(mg)',\n",
       "       'Delta tocotrienol \\n(mg)', 'Gamma tocopherol \\n(mg)',\n",
       "       'Gamma tocotrienol \\n(mg)', 'Vitamin E \\n(mg)', 'C4 (g)', 'C6 (g)',\n",
       "       'C8 (g)', 'C10 (g)', 'C11 (g)', 'C12 (g)', 'C13 (g)', 'C14 (g)',\n",
       "       'C15 (g)', 'C16 (g)', 'C17 (g)', 'C18 (g)', 'C19 (g)', 'C20 (g)',\n",
       "       'C21 (g)', 'C22 (g)', 'C23 (g)', 'C24 (g)',\n",
       "       'Total saturated fatty acids, equated \\n(g)', 'C10:1 (g)',\n",
       "       'C12:1 (g)', 'C14:1 (g)', 'C15:1 (g)', 'C16:1 (g)', 'C17:1 (g)',\n",
       "       'C18:1 (g)', 'C18:1w5 (mg)', 'C18:1w6 (mg)', 'C18:1w7 (g)',\n",
       "       'C18:1w9 (mg)', 'C20:1 (g)', 'C20:1w9 (mg)', 'C20:1w13 (mg)',\n",
       "       'C20:1w11 (mg)', 'C22:1 (g)', 'C22:1w9 (mg)', 'C22:1w11 (mg)',\n",
       "       'C24:1 (g)', 'C24:1w9 (mg)', 'C24:1w11 (mg)', 'C24:1w13 (mg)',\n",
       "       'Total monounsaturated fatty acids, equated \\n(g)', 'C12:2 (g)',\n",
       "       'C16:2w4 (mg)', 'C16:3 (g)', 'C18:2w6 (g)', 'C18:3w3 (g)',\n",
       "       'C18:3w4 (g)', 'C18:3w6 (mg)', 'C18:4w1 (g)', 'C18:4w3 (mg)',\n",
       "       'C20:2 (mg)', 'C20:2w6 (mg)', 'C20:3 (mg)', 'C20:3w3 (mg)',\n",
       "       'C20:3w6 (mg)', 'C20:4 (g)', 'C20:4w3 (mg)', 'C20:4w6 (mg)',\n",
       "       'C20:5w3 (mg)', 'C21:5w3 (g)', 'C22:5w3 (mg)', 'C22:4w6 (mg)',\n",
       "       'C22:2 (g)', 'C22:2w6 (mg)', 'C22:5w6 (g)', 'C22:6w3 (mg)',\n",
       "       'Total polyunsaturated fatty acids, equated \\n(g)',\n",
       "       'Total long chain omega 3 fatty acids, equated \\n(mg)',\n",
       "       'Total undifferentiated fatty acids, mass basis basis \\n(mg)',\n",
       "       'Total trans fatty acids, imputed \\n(mg)', 'Caffeine \\n(mg)',\n",
       "       'Cholesterol \\n(mg)', 'Alanine \\n(mg)', 'Arginine \\n(mg)',\n",
       "       'Aspartic acid \\n(mg)', 'Cystine plus cysteine \\n(mg)',\n",
       "       'Glutamic acid \\n(mg)', 'Glycine \\n(mg)', 'Histidine \\n(mg)',\n",
       "       'Isoleucine \\n(mg)', 'Leucine \\n(mg)', 'Lysine \\n(mg)',\n",
       "       'Methionine \\n(mg)', 'Phenylalanine \\n(mg)', 'Proline \\n(mg)',\n",
       "       'Serine \\n(mg)', 'Threonine \\n(mg)', 'Tyrosine \\n(mg)',\n",
       "       'Tryptophan \\n(mg)', 'Valine \\n(mg)'], dtype=object)"
      ]
     },
     "execution_count": 6,
     "metadata": {},
     "output_type": "execute_result"
    }
   ],
   "source": [
    "np.asarray(nutrient.columns)"
   ]
  },
  {
   "cell_type": "markdown",
   "metadata": {},
   "source": [
    "## Data Cleaning"
   ]
  },
  {
   "cell_type": "code",
   "execution_count": 7,
   "metadata": {
    "scrolled": true
   },
   "outputs": [],
   "source": [
    "# Get rid of \\n's from headers #\n",
    "col_pattern = r'\\s?\\n\\(.+\\)'\n",
    "nutr_cols = nutrient.columns.str.replace(col_pattern, '', regex=True)\n",
    "new_cols = dict(zip(nutrient.columns, nutr_cols))\n",
    "nutrient_clean = nutrient.rename(columns=new_cols)\n",
    "\n",
    "# Change energy to calories #\n",
    "\n",
    "fiber=True #toggle this to change how calories from fiber are calculated\n",
    "\n",
    "if fiber==True:\n",
    "    energy_cols = {'Energy with dietary fibre, equated': 'Calories'}\n",
    "    nutrient_clean = nutrient_clean.rename(columns=energy_cols)\n",
    "    nutrient_clean = nutrient_clean.drop(columns='Energy, without dietary fibre, equated')\n",
    "\n",
    "else:\n",
    "    energy_cols = {'Energy, without dietary fibre, equated': 'Calories'}\n",
    "    nutrient_clean = nutrient_clean.rename(columns=energy_cols)\n",
    "    nutrient_clean = nutrient_clean.drop(columns='Energy with dietary fibre, equated')\n",
    "\n",
    "## Convert kJ to kCal ## \n",
    "nutrient_clean['Calories'] = nutrient_clean['Calories'].apply(lambda x: x/4.2)  #multiply kJ by this to get kcal"
   ]
  },
  {
   "cell_type": "code",
   "execution_count": 8,
   "metadata": {},
   "outputs": [],
   "source": [
    "# Extract Units From Cols#\n",
    "\n",
    "### Attempt 1 - Deleting###\n",
    "\"\"\"The main plan is to delete units in table header. Because every unit in both datasets are metric, an inconsistency \n",
    "in units would manifest as a 3 orders of magnitude off which will be investigated in further analysis.\"\"\"\n",
    "\n",
    "# Get rid of (abbrev.)#\n",
    "col_pattern = r' \\(.+\\)'\n",
    "nutr_cols = nutrient_clean.columns.str.replace(col_pattern, '',regex=True)\n",
    "new_cols = dict(zip(nutrient_clean.columns, nutr_cols))\n",
    "nutrient_clean = nutrient_clean.rename(columns=new_cols)\n"
   ]
  },
  {
   "cell_type": "code",
   "execution_count": 9,
   "metadata": {},
   "outputs": [],
   "source": [
    "# Need to change column names to be equivalent between food and DV #\n",
    "\n",
    "## Vitamins ##\n",
    "vitamins = {'Thiamin': 'Vitamin B1',\n",
    "'Riboflavin': 'Vitamin B2',\n",
    "'Niacin derived equivalents': 'Vitamin B3', \n",
    "'Pantothenic acid':'Vitamin B5',\n",
    "'Pyridoxine':'Vitamin B6',\n",
    "'Biotin': 'Vitamin B7',\n",
    "'Total folates': 'Vitamin B9',\n",
    "'Cobalamin': 'Vitamin B12',\n",
    "'Vitamin A retinol equivalents':'Vitamin A',\n",
    "'Vitamin D3 equivalents': 'Vitamin D'\n",
    "           }\n",
    "nutrient_clean = nutrient_clean.rename(columns=vitamins)\n",
    "\n",
    "## Fat ##\n",
    "nutrient_clean = nutrient_clean.rename(columns = {'Fat, total': 'Fat', \n",
    "                                                    'Total saturated fatty acids, equated': 'Saturated Fat',\n",
    "                                                   'Total long chain omega 3 fatty acids, equated': 'Omega 3s'\n",
    "                                                   })\n",
    "\n",
    "### Adding omega 6s from manual Calc ###\n",
    "### Assuming any polyunsaturated fat that isn't omega-3 is an omega-6\n",
    "nutrient_clean['Omega 6s'] = round(nutrient_clean['Total polyunsaturated fatty acids, equated'] - nutrient_clean['Omega 3s']*0.001,2)\n",
    "nutrient_clean['Omega 3s'] *= 0.001\n",
    "## Carbohydrates ##\n",
    "carbs = {'Total sugars':'Sugar',\n",
    "          'Total dietary fibre':'Fiber',\n",
    "        'Available carbohydrate, with sugar alcohols':'Carbs'}\n",
    "nutrient_clean = nutrient_clean.rename(columns=carbs)\n",
    "\n",
    "## Misc Nutrients ##\n",
    "\n",
    "misc_nutr = {'Cystine plus cysteine':'Cystine',\n",
    "            }\n",
    "nutrient_clean = nutrient_clean.rename(columns=misc_nutr)\n"
   ]
  },
  {
   "cell_type": "markdown",
   "metadata": {},
   "source": [
    "#### Investigating NaN's"
   ]
  },
  {
   "cell_type": "code",
   "execution_count": 10,
   "metadata": {},
   "outputs": [
    {
     "name": "stdout",
     "output_type": "stream",
     "text": [
      "Number of foods with null leucine values: 1435 \n",
      "Number of foods with non-null: 181\n"
     ]
    }
   ],
   "source": [
    "# Look at nutrient NaNs and determine whether or not they represent 0's\n",
    "\n",
    "## Using leucine as an example \n",
    "leucine = nutrient_clean['Leucine']\n",
    "print('Number of foods with null leucine values:', leucine.isnull().sum(),\n",
    "      '\\nNumber of foods with non-null:', leucine.notnull().sum())\n",
    "\n",
    "notnull_leucine = nutrient_clean[leucine.notnull()]\n",
    "null_leucine = nutrient_clean[leucine.isnull()]\n",
    "\n",
    "\"\"\"The vast majority of foods are missing amino acid data. It would require combining an entire dataset which would\n",
    "involve matching food names accurately, which is outside of the scope of this project. Either food with missing data \n",
    "must be excluded, or we must exclude these nutrients from the fitting criteria. In order to preserve the most data\n",
    "possible, I an doing to drop the nutrients instead of the foods. For similar reasons as listed below, amino acids\n",
    "are subcategories of protein, which is included in the data set. I do believe the fitting of these nutrients, like\n",
    "many others being excluded, to be important and should be subject of an expansion to this study.\"\"\"\n",
    "\n",
    "# Make NaNs in food data 0 #\n",
    "# nutrient_values_only = nutrient_values_only.fillna(0)\n",
    "\n",
    "\n",
    "## Find columns with mostly NaN's and drop\n",
    "\n",
    "mostly_empty = []\n",
    "\n",
    "for cols in nutrient_clean:\n",
    "    if nutrient_clean[cols].isnull().sum() > nutrient_clean[cols].notnull().sum():\n",
    "        mostly_empty.append(cols)\n",
    "        \n",
    "nutrient_clean = nutrient_clean.drop(columns=mostly_empty)"
   ]
  },
  {
   "cell_type": "code",
   "execution_count": 11,
   "metadata": {},
   "outputs": [],
   "source": [
    "# Dropping carb types #\n",
    "\n",
    "\"\"\"In a similar vein, carbohydrates are non-essential nutrients (meaning there are no essential carbohydrates), so the\n",
    "carbohydrate composition is not important information. However, it is best to have complex carbohydrates instead of \n",
    "simple ones like fructose and starches. For now, the total carbohydrates and total sugar will behave as a good proxy\n",
    "measurement. Furthermore, having too many carbohydrate fitting variables, and too few protein and fat, could bias the\n",
    "output. For these reasons, all but these columns will be dropped. Including these nutrients with fat and amino acid \n",
    "compositions would serve as a valuable expansion of this model.\"\"\"\n",
    "\n",
    "carb_cols = ['Starch', 'Sucrose', 'Glucose', 'Fructose', 'Lactose', 'Maltose']\n",
    "dv = dv.drop(index=carb_cols)\n",
    "nutrient_clean = nutrient_clean.drop(columns=carb_cols)\n",
    "\n",
    "## Drop ash column, not a relevant nutrient ##\n",
    "nutrient_clean = nutrient_clean.drop(columns='Ash')"
   ]
  },
  {
   "cell_type": "code",
   "execution_count": 12,
   "metadata": {},
   "outputs": [],
   "source": [
    "def shared_columns(df1, df2):\n",
    "    \n",
    "    \"\"\"Finds which columns in df1 are and are not shared with df2\"\"\"\n",
    "    \n",
    "    df1_cols = df1.columns\n",
    "    df2_cols = df2.columns\n",
    "    \n",
    "    shared_cols = []\n",
    "    diff_cols = []\n",
    "    \n",
    "    for cols in df1_cols:\n",
    "        if cols in df2_cols:\n",
    "            shared_cols.append(cols)\n",
    "        else:\n",
    "            diff_cols.append(cols)\n",
    "    \n",
    "    return shared_cols, diff_cols"
   ]
  },
  {
   "cell_type": "code",
   "execution_count": 13,
   "metadata": {},
   "outputs": [
    {
     "name": "stdout",
     "output_type": "stream",
     "text": [
      "Dropping columns: ['Vitamin K', 'Choline', 'Lycopene', 'Lutein', 'Ash', 'Water', 'Galactose', 'Histidine', 'Threonine', 'Isoleucine', 'Lysine', 'Leucine', 'Methionine', 'Cystine', 'Phenylalanine', 'Tyrosine', 'Valine', 'Arginine', 'Alanine', 'Aspartic Acid', 'Glutamic Acid', 'Glycine', 'Proline', 'Serine', 'Hydroxyproline']\n",
      "Shared columns: 33 \n",
      "Different columns: 0\n"
     ]
    }
   ],
   "source": [
    "## Find DV columns that aren't equal to nutrient cols ##\n",
    "\n",
    "dv_clean = dv.rename(index={'Lutein+zeazanthin': 'Lutein'})\n",
    "nutr_cols = nutrient_clean.columns\n",
    "dv_shared = shared_columns(dv_clean.transpose(), nutrient_clean)\n",
    "\n",
    "\n",
    "\"\"\"This data does not exist in the food list df, therefore we will ignore these nutrients. Water is a \n",
    "nutrient that should be satisfied outside of food consumption. Therefore, it should be excluded\n",
    "from the analysis. Furthermore, the remaining incongruent sets are non-essential amino acids which can\n",
    "be produced in the human body, making it less important for consumption. Vitamin K and Choline\n",
    "are essential in the human diet. However, the food data set does not have these included. This data could \n",
    "be imputed in the event of expanding the model for a more robust study.\"\"\"\n",
    "\n",
    "dv_clean = dv_clean.drop(index=dv_shared[1])\n",
    "print(\"Dropping columns:\", dv_shared[1])\n",
    "dv_shared_dropped = shared_columns(dv_clean.transpose(), nutrient_clean)\n",
    "\n",
    "print(\"Shared columns:\", len(dv_shared_dropped[0]),\"\\nDifferent columns:\", len(dv_shared_dropped[1]))\n",
    "\n"
   ]
  },
  {
   "cell_type": "code",
   "execution_count": 14,
   "metadata": {},
   "outputs": [
    {
     "name": "stdout",
     "output_type": "stream",
     "text": [
      "Shared columns: 33 \n",
      "Different columns: 47\n",
      "Dropping excess nutrient columns ['Public Food Key', 'Classification', 'Food Name', 'Moisture', 'Nitrogen', 'Alcohol', 'Added sugars', 'Free sugars', 'Available carbohydrate, without sugar alcohols', 'Retinol', 'Alpha-carotene', 'Beta-carotene', 'Cryptoxanthin', 'Beta-carotene equivalents', 'Niacin', 'Niacin derived from tryptophan', 'Folate, natural', 'Folic acid', 'Dietary folate equivalents', 'Cholecalciferol', 'Ergocalciferol', '25-hydroxy cholecalciferol', '25-hydroxy ergocalciferol', 'Alpha tocopherol', 'C14', 'C15', 'C16', 'C17', 'C18', 'C22', 'C14:1', 'C16:1', 'C18:1', 'Total monounsaturated fatty acids, equated', 'C18:2w6', 'C18:3w3', 'C18:3w6', 'C20:2w6', 'C20:3w6', 'C20:4w6', 'C20:5w3', 'C22:5w3', 'C22:4w6', 'C22:6w3', 'Total polyunsaturated fatty acids, equated', 'Total trans fatty acids, imputed', 'Caffeine']\n",
      "Shared columns: 33 \n",
      "Different columns: 0\n"
     ]
    }
   ],
   "source": [
    "# Find nutrient columns that aren't in the DV columns #\n",
    "\n",
    "nutr_cols = nutrient_clean.columns\n",
    "nutr_shared = shared_columns(nutrient_clean, dv_clean.transpose())\n",
    "print(\"Shared columns:\", len(nutr_shared[0]),\"\\nDifferent columns:\", len(nutr_shared[1]))\n",
    "\n",
    "\"\"\"Much of the remaining dataset is anti-nutrients, subcategories of nutrients which are encapsulated by other\n",
    "nutrients, and nutrients which have no recommended value. Currently, anti-nutrients are not in the scope of this\n",
    "study but could be a valuable addition later. Therefore, I will drop all excess columns except the food name\n",
    "column.\"\"\"\n",
    "\n",
    "food_name = nutrient_clean['Food Name']\n",
    "print(\"Dropping excess nutrient columns\", nutr_shared[1])\n",
    "\n",
    "nutrient_values_only = nutrient_clean.drop(columns=nutr_shared[1])/100 # From per 100g to per 1g\n",
    "nutr_shared = shared_columns(dv_clean.transpose(), nutrient_values_only)\n",
    "print(\"Shared columns:\", len(nutr_shared[0]),\"\\nDifferent columns:\", len(nutr_shared[1]))\n",
    "# print(nutr_shared[1])"
   ]
  },
  {
   "cell_type": "code",
   "execution_count": 15,
   "metadata": {},
   "outputs": [
    {
     "data": {
      "text/html": [
       "<div>\n",
       "<style scoped>\n",
       "    .dataframe tbody tr th:only-of-type {\n",
       "        vertical-align: middle;\n",
       "    }\n",
       "\n",
       "    .dataframe tbody tr th {\n",
       "        vertical-align: top;\n",
       "    }\n",
       "\n",
       "    .dataframe thead th {\n",
       "        text-align: right;\n",
       "    }\n",
       "</style>\n",
       "<table border=\"1\" class=\"dataframe\">\n",
       "  <thead>\n",
       "    <tr style=\"text-align: right;\">\n",
       "      <th></th>\n",
       "      <th>Calories</th>\n",
       "      <th>Protein</th>\n",
       "      <th>Fat</th>\n",
       "      <th>Fiber</th>\n",
       "      <th>Sugar</th>\n",
       "      <th>Carbs</th>\n",
       "      <th>Calcium</th>\n",
       "      <th>Copper</th>\n",
       "      <th>Iodine</th>\n",
       "      <th>Iron</th>\n",
       "      <th>...</th>\n",
       "      <th>Vitamin B12</th>\n",
       "      <th>Vitamin B9</th>\n",
       "      <th>Vitamin C</th>\n",
       "      <th>Vitamin D</th>\n",
       "      <th>Vitamin E</th>\n",
       "      <th>Saturated Fat</th>\n",
       "      <th>Omega 3s</th>\n",
       "      <th>Cholesterol</th>\n",
       "      <th>Tryptophan</th>\n",
       "      <th>Omega 6s</th>\n",
       "    </tr>\n",
       "  </thead>\n",
       "  <tbody>\n",
       "    <tr>\n",
       "      <th>0</th>\n",
       "      <td>2.942857</td>\n",
       "      <td>0.108</td>\n",
       "      <td>0.067</td>\n",
       "      <td>0.280</td>\n",
       "      <td>0.044</td>\n",
       "      <td>0.344</td>\n",
       "      <td>3.83</td>\n",
       "      <td>NaN</td>\n",
       "      <td>0.000</td>\n",
       "      <td>0.1397</td>\n",
       "      <td>...</td>\n",
       "      <td>0.0</td>\n",
       "      <td>0.03</td>\n",
       "      <td>0.21</td>\n",
       "      <td>0.0</td>\n",
       "      <td>0.0285</td>\n",
       "      <td>0.0220</td>\n",
       "      <td>0.000000</td>\n",
       "      <td>0.0</td>\n",
       "      <td>1.55</td>\n",
       "      <td>0.0139</td>\n",
       "    </tr>\n",
       "    <tr>\n",
       "      <th>1</th>\n",
       "      <td>3.047619</td>\n",
       "      <td>0.134</td>\n",
       "      <td>0.143</td>\n",
       "      <td>0.348</td>\n",
       "      <td>0.072</td>\n",
       "      <td>0.149</td>\n",
       "      <td>3.30</td>\n",
       "      <td>NaN</td>\n",
       "      <td>0.023</td>\n",
       "      <td>0.1730</td>\n",
       "      <td>...</td>\n",
       "      <td>0.0</td>\n",
       "      <td>0.28</td>\n",
       "      <td>0.01</td>\n",
       "      <td>0.0</td>\n",
       "      <td>0.3814</td>\n",
       "      <td>0.0206</td>\n",
       "      <td>0.000000</td>\n",
       "      <td>0.0</td>\n",
       "      <td>0.69</td>\n",
       "      <td>0.0669</td>\n",
       "    </tr>\n",
       "    <tr>\n",
       "      <th>2</th>\n",
       "      <td>2.390476</td>\n",
       "      <td>0.040</td>\n",
       "      <td>0.012</td>\n",
       "      <td>0.531</td>\n",
       "      <td>0.022</td>\n",
       "      <td>0.275</td>\n",
       "      <td>10.02</td>\n",
       "      <td>NaN</td>\n",
       "      <td>0.001</td>\n",
       "      <td>0.0832</td>\n",
       "      <td>...</td>\n",
       "      <td>0.0</td>\n",
       "      <td>0.06</td>\n",
       "      <td>0.04</td>\n",
       "      <td>0.0</td>\n",
       "      <td>0.0232</td>\n",
       "      <td>0.0062</td>\n",
       "      <td>0.000000</td>\n",
       "      <td>0.0</td>\n",
       "      <td>0.49</td>\n",
       "      <td>0.0012</td>\n",
       "    </tr>\n",
       "    <tr>\n",
       "      <th>3</th>\n",
       "      <td>3.307143</td>\n",
       "      <td>0.060</td>\n",
       "      <td>0.130</td>\n",
       "      <td>0.339</td>\n",
       "      <td>0.024</td>\n",
       "      <td>0.316</td>\n",
       "      <td>6.32</td>\n",
       "      <td>NaN</td>\n",
       "      <td>0.507</td>\n",
       "      <td>0.1183</td>\n",
       "      <td>...</td>\n",
       "      <td>0.0</td>\n",
       "      <td>0.25</td>\n",
       "      <td>0.00</td>\n",
       "      <td>0.0</td>\n",
       "      <td>0.0882</td>\n",
       "      <td>0.0549</td>\n",
       "      <td>0.002666</td>\n",
       "      <td>0.0</td>\n",
       "      <td>0.30</td>\n",
       "      <td>0.0476</td>\n",
       "    </tr>\n",
       "    <tr>\n",
       "      <th>4</th>\n",
       "      <td>3.200000</td>\n",
       "      <td>0.124</td>\n",
       "      <td>0.178</td>\n",
       "      <td>0.419</td>\n",
       "      <td>0.024</td>\n",
       "      <td>0.084</td>\n",
       "      <td>7.09</td>\n",
       "      <td>NaN</td>\n",
       "      <td>0.023</td>\n",
       "      <td>0.1632</td>\n",
       "      <td>...</td>\n",
       "      <td>0.0</td>\n",
       "      <td>0.00</td>\n",
       "      <td>0.21</td>\n",
       "      <td>0.0</td>\n",
       "      <td>0.0091</td>\n",
       "      <td>0.0103</td>\n",
       "      <td>0.000000</td>\n",
       "      <td>0.0</td>\n",
       "      <td>1.78</td>\n",
       "      <td>0.0182</td>\n",
       "    </tr>\n",
       "  </tbody>\n",
       "</table>\n",
       "<p>5 rows × 33 columns</p>\n",
       "</div>"
      ],
      "text/plain": [
       "   Calories  Protein    Fat  Fiber  Sugar  Carbs  Calcium  Copper  Iodine  \\\n",
       "0  2.942857    0.108  0.067  0.280  0.044  0.344     3.83     NaN   0.000   \n",
       "1  3.047619    0.134  0.143  0.348  0.072  0.149     3.30     NaN   0.023   \n",
       "2  2.390476    0.040  0.012  0.531  0.022  0.275    10.02     NaN   0.001   \n",
       "3  3.307143    0.060  0.130  0.339  0.024  0.316     6.32     NaN   0.507   \n",
       "4  3.200000    0.124  0.178  0.419  0.024  0.084     7.09     NaN   0.023   \n",
       "\n",
       "     Iron  ...  Vitamin B12  Vitamin B9  Vitamin C  Vitamin D  Vitamin E  \\\n",
       "0  0.1397  ...          0.0        0.03       0.21        0.0     0.0285   \n",
       "1  0.1730  ...          0.0        0.28       0.01        0.0     0.3814   \n",
       "2  0.0832  ...          0.0        0.06       0.04        0.0     0.0232   \n",
       "3  0.1183  ...          0.0        0.25       0.00        0.0     0.0882   \n",
       "4  0.1632  ...          0.0        0.00       0.21        0.0     0.0091   \n",
       "\n",
       "   Saturated Fat  Omega 3s  Cholesterol  Tryptophan  Omega 6s  \n",
       "0         0.0220  0.000000          0.0        1.55    0.0139  \n",
       "1         0.0206  0.000000          0.0        0.69    0.0669  \n",
       "2         0.0062  0.000000          0.0        0.49    0.0012  \n",
       "3         0.0549  0.002666          0.0        0.30    0.0476  \n",
       "4         0.0103  0.000000          0.0        1.78    0.0182  \n",
       "\n",
       "[5 rows x 33 columns]"
      ]
     },
     "execution_count": 15,
     "metadata": {},
     "output_type": "execute_result"
    }
   ],
   "source": [
    "nutrient_values_only.head()"
   ]
  },
  {
   "cell_type": "code",
   "execution_count": 16,
   "metadata": {},
   "outputs": [],
   "source": [
    "# Extract Units From DV #\n",
    "\n",
    "unit_pattern = r'\\d+(\\w+)'\n",
    "number_pattern = r'(\\d+.?\\d+)'\n",
    "dv_clean['RDI units'] = dv_clean['RDI'].str.extract(unit_pattern)\n",
    "dv_clean['RDI'] = dv_clean['RDI'].str.extract(number_pattern)\n",
    "dv_clean['DV units'] = dv_clean['DV'].str.extract(unit_pattern)\n",
    "dv_clean['DV'] = dv_clean['DV'].str.extract(number_pattern)\n",
    "\n",
    "# Make numeric entries numeric type\n",
    "dv_clean['DV'] = pd.to_numeric(dv_clean['DV'])\n",
    "dv_clean['RDI'] = pd.to_numeric(dv_clean['RDI'])\n",
    "\n",
    "# # Convert mcg into mg, like it is in main table\n",
    "# mcg_pattern = r'mcg'\n",
    "# dv_clean.loc[dv_clean['DV units'].str.contains(mcg_pattern, na=False) | dv_clean['RDI units'].str.contains(mcg_pattern, na=False), ['DV', 'RDI'] ] /= 1000\n"
   ]
  },
  {
   "cell_type": "code",
   "execution_count": 17,
   "metadata": {},
   "outputs": [],
   "source": [
    "\"\"\"Let's combine the entries in RDI and DV to create a daily value with few NaNs, taking the highest value\n",
    "Note: isnan() is vectorized so I might be able to get rid of loop.\"\"\"\n",
    "\n",
    "dv_col = dv_clean['DV']\n",
    "rdi_col = dv_clean['RDI']\n",
    "dv_rdi_combined = []\n",
    "\n",
    "for dv, rdi in zip(dv_col,rdi_col):\n",
    "    if np.isnan(dv) and not np.isnan(rdi):\n",
    "        dv_rdi_combined.append(rdi)\n",
    "    \n",
    "    elif not np.isnan(dv) and np.isnan(rdi):\n",
    "        dv_rdi_combined.append(dv)\n",
    "    \n",
    "    elif np.isnan(dv) and np.isnan(rdi):\n",
    "        dv_rdi_combined.append(dv)\n",
    "        \n",
    "    elif not np.isnan(dv) and not np.isnan(rdi):\n",
    "        dv_rdi_combined.append(max(dv,rdi))\n",
    "\n",
    "dv_clean['DV and RDI, Highest'] = dv_rdi_combined"
   ]
  },
  {
   "cell_type": "markdown",
   "metadata": {},
   "source": [
    "#### Impute Missing Vitamin B5 Value\n",
    "Sources: <br>\n",
    "Vitamin B5: https://health.clevelandclinic.org/vitamin-b5-pantothenic-acid <br>"
   ]
  },
  {
   "cell_type": "code",
   "execution_count": 18,
   "metadata": {},
   "outputs": [],
   "source": [
    "# Impute DV/RDI  #\n",
    "dv_clean.loc['Vitamin B5', 'DV and RDI, Highest'] = 5.0\n",
    "dv_clean.loc['Vitamin B5', 'DV units'] = 'mg'\n"
   ]
  },
  {
   "cell_type": "code",
   "execution_count": 19,
   "metadata": {},
   "outputs": [
    {
     "data": {
      "text/plain": [
       "Nutrient\n",
       "Calories         2000.0\n",
       "Fat                78.0\n",
       "Saturated Fat      20.0\n",
       "Cholesterol       300.0\n",
       "Carbs             275.0\n",
       "Fiber              38.0\n",
       "Sugar              50.0\n",
       "Protein            56.0\n",
       "Vitamin A        3000.0\n",
       "Vitamin B1          1.2\n",
       "Vitamin B2          1.3\n",
       "Vitamin B3         16.0\n",
       "Vitamin B5          5.0\n",
       "Vitamin B6          1.7\n",
       "Vitamin B9        400.0\n",
       "Vitamin B12         2.4\n",
       "Vitamin C          90.0\n",
       "Vitamin D          20.0\n",
       "Vitamin E          15.0\n",
       "Calcium          1300.0\n",
       "Copper              0.9\n",
       "Iodine            150.0\n",
       "Iron               18.0\n",
       "Magnesium         420.0\n",
       "Manganese           2.3\n",
       "Phosphorus       1250.0\n",
       "Potassium        4700.0\n",
       "Selenium           55.0\n",
       "Sodium           2300.0\n",
       "Zinc               11.0\n",
       "Omega 3s            1.6\n",
       "Omega 6s           17.0\n",
       "Tryptophan        280.0\n",
       "Name: DV and RDI, Highest, dtype: float64"
      ]
     },
     "execution_count": 19,
     "metadata": {},
     "output_type": "execute_result"
    }
   ],
   "source": [
    "dv_clean['DV and RDI, Highest']"
   ]
  },
  {
   "cell_type": "markdown",
   "metadata": {},
   "source": [
    "#### Repeat Column Name Sanity Check"
   ]
  },
  {
   "cell_type": "code",
   "execution_count": 20,
   "metadata": {},
   "outputs": [],
   "source": [
    "a = {}\n",
    "for nut in nutrient_clean.columns:\n",
    "    if nut in a:\n",
    "        a[nut] +=1\n",
    "    else:\n",
    "        a[nut] = 1"
   ]
  },
  {
   "cell_type": "code",
   "execution_count": 21,
   "metadata": {},
   "outputs": [
    {
     "name": "stdout",
     "output_type": "stream",
     "text": [
      "No repeat columns\n"
     ]
    }
   ],
   "source": [
    "b = 0\n",
    "for keys, vals in a.items():\n",
    "    if vals > 1:\n",
    "        print('Repeat column')\n",
    "        b+=1\n",
    "if b == 0:\n",
    "    print('No repeat columns')"
   ]
  },
  {
   "cell_type": "code",
   "execution_count": 22,
   "metadata": {},
   "outputs": [],
   "source": [
    "nutrient_reduced = nutrient_values_only.copy()\n",
    "nutrient_reduced['Food Name'] = food_name\n"
   ]
  },
  {
   "cell_type": "code",
   "execution_count": 23,
   "metadata": {},
   "outputs": [
    {
     "data": {
      "text/plain": [
       "Calories           0\n",
       "Protein            0\n",
       "Fat                0\n",
       "Fiber              0\n",
       "Sugar              0\n",
       "Carbs              0\n",
       "Calcium            0\n",
       "Copper           361\n",
       "Iodine             0\n",
       "Iron               0\n",
       "Magnesium          0\n",
       "Manganese        392\n",
       "Phosphorus         0\n",
       "Potassium          0\n",
       "Selenium           0\n",
       "Sodium             0\n",
       "Zinc               0\n",
       "Vitamin A          0\n",
       "Vitamin B1         0\n",
       "Vitamin B2         0\n",
       "Vitamin B3         0\n",
       "Vitamin B5       574\n",
       "Vitamin B6         0\n",
       "Vitamin B12        0\n",
       "Vitamin B9         0\n",
       "Vitamin C          0\n",
       "Vitamin D          0\n",
       "Vitamin E          0\n",
       "Saturated Fat      0\n",
       "Omega 3s           0\n",
       "Cholesterol        0\n",
       "Tryptophan         0\n",
       "Omega 6s           0\n",
       "Food Name          0\n",
       "dtype: int64"
      ]
     },
     "execution_count": 23,
     "metadata": {},
     "output_type": "execute_result"
    }
   ],
   "source": [
    "nutrient_reduced.isnull().sum()"
   ]
  },
  {
   "cell_type": "code",
   "execution_count": 24,
   "metadata": {},
   "outputs": [
    {
     "name": "stdout",
     "output_type": "stream",
     "text": [
      "Mean is 0.005043282149712093 and StdDev is 0.006182029089326126\n"
     ]
    },
    {
     "data": {
      "image/png": "[encoded data removed]",
      "text/plain": [
       "<Figure size 640x480 with 1 Axes>"
      ]
     },
     "metadata": {},
     "output_type": "display_data"
    }
   ],
   "source": [
    "nutr_has_b5 = nutrient_reduced[nutrient_reduced['Vitamin B5'].notnull()]\n",
    "high_b5 = nutr_has_b5[nutr_has_b5['Vitamin B5'] > 0.005]['Vitamin B5']\n",
    "b5 = nutr_has_b5['Vitamin B5']\n",
    "b5.plot.hist(bins=50)\n",
    "print(f'Mean is {np.mean(b5)} and StdDev is {np.std(b5)}')"
   ]
  },
  {
   "cell_type": "code",
   "execution_count": 25,
   "metadata": {},
   "outputs": [],
   "source": [
    "nutr_no_B5 = nutrient_reduced[nutrient_reduced['Vitamin B5'].isnull()]\n",
    "# np.asarray(nutr_no_B5['Food Name'])"
   ]
  },
  {
   "cell_type": "code",
   "execution_count": 26,
   "metadata": {},
   "outputs": [],
   "source": [
    "# Fill in NaNs with 0s and move on#\n",
    "\"\"\"Must address this later\"\"\"\n",
    "nutrient_values_only = nutrient_values_only.fillna(0.0)\n",
    "nutrient_reduced = nutrient_reduced.fillna(0.0)"
   ]
  },
  {
   "cell_type": "markdown",
   "metadata": {},
   "source": [
    "## Exploratory Data Analysis"
   ]
  },
  {
   "cell_type": "markdown",
   "metadata": {},
   "source": [
    "Goals:\n",
    "1. Explore micronutrient content in foods.\n",
    "2. Create micronutrient score, find ratio of micros to macros"
   ]
  },
  {
   "cell_type": "code",
   "execution_count": 87,
   "metadata": {},
   "outputs": [
    {
     "data": {
      "text/html": [
       "<div>\n",
       "<style scoped>\n",
       "    .dataframe tbody tr th:only-of-type {\n",
       "        vertical-align: middle;\n",
       "    }\n",
       "\n",
       "    .dataframe tbody tr th {\n",
       "        vertical-align: top;\n",
       "    }\n",
       "\n",
       "    .dataframe thead th {\n",
       "        text-align: right;\n",
       "    }\n",
       "</style>\n",
       "<table border=\"1\" class=\"dataframe\">\n",
       "  <thead>\n",
       "    <tr style=\"text-align: right;\">\n",
       "      <th></th>\n",
       "      <th>Cardamom seed, dried, ground</th>\n",
       "      <th>Chilli (chili), dried, ground</th>\n",
       "      <th>Cinnamon, dried, ground</th>\n",
       "      <th>Cloves, dried, ground</th>\n",
       "      <th>Coriander seed, dried, ground</th>\n",
       "      <th>Cumin (cummin) seed, dried, ground</th>\n",
       "      <th>Curry powder</th>\n",
       "      <th>Fenugreek seed, dried</th>\n",
       "      <th>Ginger, dried, ground</th>\n",
       "      <th>Mustard powder</th>\n",
       "      <th>...</th>\n",
       "      <th>Vine leaf, grape, canned</th>\n",
       "      <th>Water chestnut, peeled, canned, drained</th>\n",
       "      <th>Watercress, raw</th>\n",
       "      <th>Zucchini, green skin, fresh, unpeeled, raw</th>\n",
       "      <th>Zucchini, green skin, fresh, unpeeled, fried, no added fat</th>\n",
       "      <th>Zucchini, green skin, fresh, unpeeled, boiled, drained</th>\n",
       "      <th>Zucchini, golden, fresh, unpeeled, raw</th>\n",
       "      <th>Zucchini, golden, fresh, unpeeled, fried, no added fat</th>\n",
       "      <th>Zucchini, golden, fresh, unpeeled, boiled, drained</th>\n",
       "      <th>DV and RDI, Highest</th>\n",
       "    </tr>\n",
       "  </thead>\n",
       "  <tbody>\n",
       "    <tr>\n",
       "      <th>Fiber</th>\n",
       "      <td>0.28</td>\n",
       "      <td>0.348</td>\n",
       "      <td>0.531</td>\n",
       "      <td>0.339</td>\n",
       "      <td>0.419</td>\n",
       "      <td>0.105</td>\n",
       "      <td>0.532</td>\n",
       "      <td>0.476</td>\n",
       "      <td>0.141</td>\n",
       "      <td>0.05</td>\n",
       "      <td>...</td>\n",
       "      <td>0.099</td>\n",
       "      <td>0.027</td>\n",
       "      <td>0.038</td>\n",
       "      <td>0.011</td>\n",
       "      <td>0.016</td>\n",
       "      <td>0.013</td>\n",
       "      <td>0.01</td>\n",
       "      <td>0.014</td>\n",
       "      <td>0.012</td>\n",
       "      <td>38.0</td>\n",
       "    </tr>\n",
       "    <tr>\n",
       "      <th>Calcium</th>\n",
       "      <td>3.83</td>\n",
       "      <td>3.3</td>\n",
       "      <td>10.02</td>\n",
       "      <td>6.32</td>\n",
       "      <td>7.09</td>\n",
       "      <td>9.31</td>\n",
       "      <td>5.25</td>\n",
       "      <td>1.76</td>\n",
       "      <td>1.14</td>\n",
       "      <td>1.6</td>\n",
       "      <td>...</td>\n",
       "      <td>2.89</td>\n",
       "      <td>0.03</td>\n",
       "      <td>0.85</td>\n",
       "      <td>0.18</td>\n",
       "      <td>0.25</td>\n",
       "      <td>0.2</td>\n",
       "      <td>0.16</td>\n",
       "      <td>0.23</td>\n",
       "      <td>0.18</td>\n",
       "      <td>1300.0</td>\n",
       "    </tr>\n",
       "    <tr>\n",
       "      <th>Copper</th>\n",
       "      <td>0.0</td>\n",
       "      <td>0.0</td>\n",
       "      <td>0.0</td>\n",
       "      <td>0.0</td>\n",
       "      <td>0.0</td>\n",
       "      <td>0.0</td>\n",
       "      <td>0.0</td>\n",
       "      <td>0.0</td>\n",
       "      <td>0.0</td>\n",
       "      <td>0.0041</td>\n",
       "      <td>...</td>\n",
       "      <td>0.0</td>\n",
       "      <td>0.0</td>\n",
       "      <td>0.0</td>\n",
       "      <td>0.00066</td>\n",
       "      <td>0.00095</td>\n",
       "      <td>0.00079</td>\n",
       "      <td>0.0</td>\n",
       "      <td>0.0</td>\n",
       "      <td>0.0</td>\n",
       "      <td>0.9</td>\n",
       "    </tr>\n",
       "    <tr>\n",
       "      <th>Iodine</th>\n",
       "      <td>0.0</td>\n",
       "      <td>0.023</td>\n",
       "      <td>0.001</td>\n",
       "      <td>0.507</td>\n",
       "      <td>0.023</td>\n",
       "      <td>0.136</td>\n",
       "      <td>0.0</td>\n",
       "      <td>0.023</td>\n",
       "      <td>0.124</td>\n",
       "      <td>0.0</td>\n",
       "      <td>...</td>\n",
       "      <td>0.066</td>\n",
       "      <td>0.007</td>\n",
       "      <td>0.0</td>\n",
       "      <td>0.0</td>\n",
       "      <td>0.0</td>\n",
       "      <td>0.0</td>\n",
       "      <td>0.0</td>\n",
       "      <td>0.0</td>\n",
       "      <td>0.0</td>\n",
       "      <td>150.0</td>\n",
       "    </tr>\n",
       "    <tr>\n",
       "      <th>Iron</th>\n",
       "      <td>0.1397</td>\n",
       "      <td>0.173</td>\n",
       "      <td>0.0832</td>\n",
       "      <td>0.1183</td>\n",
       "      <td>0.1632</td>\n",
       "      <td>0.6636</td>\n",
       "      <td>0.191</td>\n",
       "      <td>0.3353</td>\n",
       "      <td>0.198</td>\n",
       "      <td>0.07</td>\n",
       "      <td>...</td>\n",
       "      <td>0.0298</td>\n",
       "      <td>0.028</td>\n",
       "      <td>0.03</td>\n",
       "      <td>0.005</td>\n",
       "      <td>0.0071</td>\n",
       "      <td>0.0056</td>\n",
       "      <td>0.004</td>\n",
       "      <td>0.0057</td>\n",
       "      <td>0.0045</td>\n",
       "      <td>18.0</td>\n",
       "    </tr>\n",
       "  </tbody>\n",
       "</table>\n",
       "<p>5 rows × 1617 columns</p>\n",
       "</div>"
      ],
      "text/plain": [
       "        Cardamom seed, dried, ground Chilli (chili), dried, ground  \\\n",
       "Fiber                           0.28                         0.348   \n",
       "Calcium                         3.83                           3.3   \n",
       "Copper                           0.0                           0.0   \n",
       "Iodine                           0.0                         0.023   \n",
       "Iron                          0.1397                         0.173   \n",
       "\n",
       "        Cinnamon, dried, ground Cloves, dried, ground  \\\n",
       "Fiber                     0.531                 0.339   \n",
       "Calcium                   10.02                  6.32   \n",
       "Copper                      0.0                   0.0   \n",
       "Iodine                    0.001                 0.507   \n",
       "Iron                     0.0832                0.1183   \n",
       "\n",
       "        Coriander seed, dried, ground Cumin (cummin) seed, dried, ground  \\\n",
       "Fiber                           0.419                              0.105   \n",
       "Calcium                          7.09                               9.31   \n",
       "Copper                            0.0                                0.0   \n",
       "Iodine                          0.023                              0.136   \n",
       "Iron                           0.1632                             0.6636   \n",
       "\n",
       "        Curry powder Fenugreek seed, dried Ginger, dried, ground  \\\n",
       "Fiber          0.532                 0.476                 0.141   \n",
       "Calcium         5.25                  1.76                  1.14   \n",
       "Copper           0.0                   0.0                   0.0   \n",
       "Iodine           0.0                 0.023                 0.124   \n",
       "Iron           0.191                0.3353                 0.198   \n",
       "\n",
       "        Mustard powder  ... Vine leaf, grape, canned  \\\n",
       "Fiber             0.05  ...                    0.099   \n",
       "Calcium            1.6  ...                     2.89   \n",
       "Copper          0.0041  ...                      0.0   \n",
       "Iodine             0.0  ...                    0.066   \n",
       "Iron              0.07  ...                   0.0298   \n",
       "\n",
       "        Water chestnut, peeled, canned, drained Watercress, raw  \\\n",
       "Fiber                                     0.027           0.038   \n",
       "Calcium                                    0.03            0.85   \n",
       "Copper                                      0.0             0.0   \n",
       "Iodine                                    0.007             0.0   \n",
       "Iron                                      0.028            0.03   \n",
       "\n",
       "        Zucchini, green skin, fresh, unpeeled, raw  \\\n",
       "Fiber                                        0.011   \n",
       "Calcium                                       0.18   \n",
       "Copper                                     0.00066   \n",
       "Iodine                                         0.0   \n",
       "Iron                                         0.005   \n",
       "\n",
       "        Zucchini, green skin, fresh, unpeeled, fried, no added fat  \\\n",
       "Fiber                                                0.016           \n",
       "Calcium                                               0.25           \n",
       "Copper                                             0.00095           \n",
       "Iodine                                                 0.0           \n",
       "Iron                                                0.0071           \n",
       "\n",
       "        Zucchini, green skin, fresh, unpeeled, boiled, drained  \\\n",
       "Fiber                                                0.013       \n",
       "Calcium                                                0.2       \n",
       "Copper                                             0.00079       \n",
       "Iodine                                                 0.0       \n",
       "Iron                                                0.0056       \n",
       "\n",
       "        Zucchini, golden, fresh, unpeeled, raw  \\\n",
       "Fiber                                     0.01   \n",
       "Calcium                                   0.16   \n",
       "Copper                                     0.0   \n",
       "Iodine                                     0.0   \n",
       "Iron                                     0.004   \n",
       "\n",
       "        Zucchini, golden, fresh, unpeeled, fried, no added fat  \\\n",
       "Fiber                                                0.014       \n",
       "Calcium                                               0.23       \n",
       "Copper                                                 0.0       \n",
       "Iodine                                                 0.0       \n",
       "Iron                                                0.0057       \n",
       "\n",
       "        Zucchini, golden, fresh, unpeeled, boiled, drained DV and RDI, Highest  \n",
       "Fiber                                                0.012                38.0  \n",
       "Calcium                                               0.18              1300.0  \n",
       "Copper                                                 0.0                 0.9  \n",
       "Iodine                                                 0.0               150.0  \n",
       "Iron                                                0.0045                18.0  \n",
       "\n",
       "[5 rows x 1617 columns]"
      ]
     },
     "execution_count": 87,
     "metadata": {},
     "output_type": "execute_result"
    }
   ],
   "source": [
    "# Make micro nutrient df #\n",
    "\n",
    "macros = ['Calories', 'Carbs', 'Protein', 'Fat', 'Sugar', 'Saturated Fat'] # Not dropping omega fatty acids\n",
    "dv = dv_clean['DV and RDI, Highest'] \n",
    "micro_recommend = dv.drop(index=macros)\n",
    "micro_nutrient = nutrient_reduced.drop(columns=macros)\n",
    "\n",
    "# Match nutrient index orders\n",
    "micro_matrix_combo = micro_nutrient.transpose()\n",
    "micro_matrix_combo = micro_matrix_combo.merge(micro_recommend,left_index=True, right_index=True)\n",
    "micro_matrix_combo = micro_matrix_combo.rename(columns=food_name) # Put food names back in\n",
    "micro_matrix_combo.head()"
   ]
  },
  {
   "cell_type": "markdown",
   "metadata": {},
   "source": [
    "### Nutrient Denisty, unweighted"
   ]
  },
  {
   "cell_type": "code",
   "execution_count": 88,
   "metadata": {},
   "outputs": [],
   "source": [
    "# Finding nutrient density by contents #\n",
    "micro_matrix_portions = micro_matrix_combo.copy()\n",
    "\n",
    "# Find percent daily value per gram per nutrient for every food\n",
    "for col in micro_matrix_portions:\n",
    "    micro_matrix_portions[col] = micro_matrix_portions[col]/micro_matrix_portions.iloc[:,-1]\n",
    "\n",
    "# Mean all nutrient %DV to get total nutrient denisty score, weighting all nutrients equally\n",
    "micro_food_score = micro_matrix_portions.mean(axis=0)*100*100\n",
    "micro_food_score_sorted = micro_food_score.sort_values(ascending=False)"
   ]
  },
  {
   "cell_type": "code",
   "execution_count": 89,
   "metadata": {
    "scrolled": true
   },
   "outputs": [
    {
     "data": {
      "text/plain": [
       "DV and RDI, Highest                          10000.0\n",
       "Lamb, liver, grilled, no added fat        243.856386\n",
       "Spread, yeast, vegemite                   195.424924\n",
       "Salt, table, iodised                      170.544505\n",
       "Nut, brazil, raw or blanched, unsalted    162.250154\n",
       "Spread, yeast, marmite                     128.12719\n",
       "Seaweed, nori, dried                       125.65165\n",
       "Abalone, green lip, aquacultured, raw      95.956899\n",
       "Tahini, sesame seed pulp                   91.413941\n",
       "Chicken, liver, fried, added butter        88.141927\n",
       "dtype: object"
      ]
     },
     "execution_count": 89,
     "metadata": {},
     "output_type": "execute_result"
    }
   ],
   "source": [
    "# Top 10 foods with the highest nutrient content #\n",
    "micro_food_score_sorted.head(10)"
   ]
  },
  {
   "cell_type": "code",
   "execution_count": 90,
   "metadata": {},
   "outputs": [
    {
     "data": {
      "text/html": [
       "<div>\n",
       "<style scoped>\n",
       "    .dataframe tbody tr th:only-of-type {\n",
       "        vertical-align: middle;\n",
       "    }\n",
       "\n",
       "    .dataframe tbody tr th {\n",
       "        vertical-align: top;\n",
       "    }\n",
       "\n",
       "    .dataframe thead th {\n",
       "        text-align: right;\n",
       "    }\n",
       "</style>\n",
       "<table border=\"1\" class=\"dataframe\">\n",
       "  <thead>\n",
       "    <tr style=\"text-align: right;\">\n",
       "      <th></th>\n",
       "      <th>Dot of Unit Vectors</th>\n",
       "    </tr>\n",
       "  </thead>\n",
       "  <tbody>\n",
       "    <tr>\n",
       "      <th>DV and RDI, Highest</th>\n",
       "      <td>1.000000</td>\n",
       "    </tr>\n",
       "    <tr>\n",
       "      <th>Vegetable crisps or chips, sweet potato &amp; taro, flavoured</th>\n",
       "      <td>0.980121</td>\n",
       "    </tr>\n",
       "    <tr>\n",
       "      <th>Tomato, whole, canned in tomato juice, drained</th>\n",
       "      <td>0.969552</td>\n",
       "    </tr>\n",
       "    <tr>\n",
       "      <th>Silverbeet, fresh, raw</th>\n",
       "      <td>0.965851</td>\n",
       "    </tr>\n",
       "    <tr>\n",
       "      <th>Bok choy, steamed</th>\n",
       "      <td>0.962151</td>\n",
       "    </tr>\n",
       "  </tbody>\n",
       "</table>\n",
       "</div>"
      ],
      "text/plain": [
       "                                                    Dot of Unit Vectors\n",
       "DV and RDI, Highest                                            1.000000\n",
       "Vegetable crisps or chips, sweet potato & taro,...             0.980121\n",
       "Tomato, whole, canned in tomato juice, drained                 0.969552\n",
       "Silverbeet, fresh, raw                                         0.965851\n",
       "Bok choy, steamed                                              0.962151"
      ]
     },
     "execution_count": 90,
     "metadata": {},
     "output_type": "execute_result"
    }
   ],
   "source": [
    "# Nutrient density calculation #\n",
    "\"\"\"Making every food a unit vector then doing a dot product with the nutrient column.\"\"\"\n",
    "micro_matrix_combo = micro_matrix_combo.rename(columns=food_name)\n",
    "micro_matrix_unit = micro_matrix_combo.copy()#np.linalg.norm(micro_matrix_combo.iloc[:,:-1], axis=0)\n",
    "for col in micro_matrix_unit:\n",
    "    column = micro_matrix_unit[col]\n",
    "    micro_matrix_unit[col] = column/np.sqrt(np.dot(column,column))\n",
    "\n",
    "## Make dot product of each food and DV as represented by a unit vectors ##\n",
    "\"\"\"Not doing what I first expected, this is saying how evenly distributed nutrients are in a food, weighted by the portion of nutrient\n",
    "that is in DV. This shows which foods will have the most variety of nutrients in the relevant portions, but not necessarily the density\n",
    "or overall content.\"\"\"\n",
    "micro_nutrient_dot = pd.DataFrame(data=micro_matrix_unit.iloc[0:1], columns=micro_matrix_unit.columns, index = ['Dot of Unit Vectors'])\n",
    "for col in micro_matrix_unit[:-1]:\n",
    "    column = micro_matrix_unit[col]\n",
    "    micro_nutrient_dot[col] = np.dot(column, micro_matrix_unit.iloc[:,-1])\n",
    "\n",
    "micro_nutrient_dot_column = micro_nutrient_dot.transpose()\n",
    "micro_nutrient_dot_column = micro_nutrient_dot_column.sort_values(by='Dot of Unit Vectors', ascending=False)\n",
    "micro_nutrient_dot_column.head()"
   ]
  },
  {
   "cell_type": "markdown",
   "metadata": {},
   "source": [
    "### Finding rare nutrients\n",
    "Finding nutrients that have the lowest %DV"
   ]
  },
  {
   "cell_type": "code",
   "execution_count": 91,
   "metadata": {},
   "outputs": [],
   "source": [
    "# Sum all nutrients %DV to get most and least common micros\n",
    "micro_nutrient_freq = micro_matrix_portions.sum(axis=1)\n",
    "micro_nutrient_freq_sorted = micro_nutrient_freq.sort_values()"
   ]
  },
  {
   "cell_type": "code",
   "execution_count": 92,
   "metadata": {},
   "outputs": [
    {
     "data": {
      "text/plain": [
       "<Axes: title={'center': 'Sum Total of Each Nutrient'}>"
      ]
     },
     "execution_count": 92,
     "metadata": {},
     "output_type": "execute_result"
    },
    {
     "data": {
      "image/png": "[encoded data removed]",
      "text/plain": [
       "<Figure size 640x480 with 1 Axes>"
      ]
     },
     "metadata": {},
     "output_type": "display_data"
    }
   ],
   "source": [
    "micro_nutrient_freq_sorted.plot.barh(title = 'Sum Total of Each Nutrient')"
   ]
  },
  {
   "cell_type": "code",
   "execution_count": 93,
   "metadata": {},
   "outputs": [
    {
     "data": {
      "text/plain": [
       "<Axes: title={'center': 'Overall Average Concentration of Each Nutrient'}>"
      ]
     },
     "execution_count": 93,
     "metadata": {},
     "output_type": "execute_result"
    },
    {
     "data": {
      "image/png": "[encoded data removed]",
      "text/plain": [
       "<Figure size 640x480 with 1 Axes>"
      ]
     },
     "metadata": {},
     "output_type": "display_data"
    }
   ],
   "source": [
    "# Find median values of all nutrients\n",
    "micro_nutrient_median = micro_matrix_portions.median(axis=1)\n",
    "micro_nutrient_median_sorted = micro_nutrient_median.sort_values()\n",
    "micro_nutrient_median_sorted.plot.barh(title = 'Overall Average Concentration of Each Nutrient')"
   ]
  },
  {
   "cell_type": "code",
   "execution_count": 94,
   "metadata": {},
   "outputs": [
    {
     "data": {
      "text/plain": [
       "<Axes: title={'center': 'Number of Foods with Each Nutrient'}>"
      ]
     },
     "execution_count": 94,
     "metadata": {},
     "output_type": "execute_result"
    },
    {
     "data": {
      "image/png": "[encoded data removed]",
      "text/plain": [
       "<Figure size 640x480 with 1 Axes>"
      ]
     },
     "metadata": {},
     "output_type": "display_data"
    }
   ],
   "source": [
    "# Find rarest nutrients by number of non-zeros\n",
    "micro_nutrient_nonzero = pd.Series(data = np.count_nonzero(micro_matrix_portions, axis=1), index=micro_matrix_portions.index)\n",
    "micro_nutrient_nonzero_sorted = micro_nutrient_nonzero.sort_values()\n",
    "micro_nutrient_nonzero_sorted.plot.barh(title = 'Number of Foods with Each Nutrient')"
   ]
  },
  {
   "cell_type": "code",
   "execution_count": 95,
   "metadata": {},
   "outputs": [
    {
     "data": {
      "text/plain": [
       "<Axes: title={'center': 'Average Concentration of Each Nutrient, When Present'}>"
      ]
     },
     "execution_count": 95,
     "metadata": {},
     "output_type": "execute_result"
    },
    {
     "data": {
      "image/png": "[encoded data removed]",
      "text/plain": [
       "<Figure size 640x480 with 1 Axes>"
      ]
     },
     "metadata": {},
     "output_type": "display_data"
    }
   ],
   "source": [
    "# Find average nutrient portion when present\n",
    "micro_nutrient_nonzero_mean = micro_matrix_portions.apply(lambda row: row[row != 0].mean(), axis=1)\n",
    "micro_nutrient_nonzero_mean_sorted = micro_nutrient_nonzero_mean.sort_values()\n",
    "micro_nutrient_nonzero_mean_sorted.plot.barh(title = 'Average Concentration of Each Nutrient, When Present')"
   ]
  },
  {
   "cell_type": "code",
   "execution_count": 96,
   "metadata": {},
   "outputs": [
    {
     "data": {
      "text/plain": [
       "<Axes: title={'center': 'Number of Unique Micro Nutrients in a Food'}, ylabel='Frequency'>"
      ]
     },
     "execution_count": 96,
     "metadata": {},
     "output_type": "execute_result"
    },
    {
     "data": {
      "image/png": "[encoded data removed]",
      "text/plain": [
       "<Figure size 640x480 with 1 Axes>"
      ]
     },
     "metadata": {},
     "output_type": "display_data"
    }
   ],
   "source": [
    "# Find how many nutrients does each food have\n",
    "micro_per_food = pd.Series(data = np.count_nonzero(micro_matrix_portions, axis=0), index=micro_matrix_portions.columns)\n",
    "micro_per_food_sorted = micro_per_food.sort_values()\n",
    "micro_per_food.plot.hist(bins=27, title = 'Number of Unique Micro Nutrients in a Food')"
   ]
  },
  {
   "cell_type": "code",
   "execution_count": 97,
   "metadata": {},
   "outputs": [
    {
     "name": "stdout",
     "output_type": "stream",
     "text": [
      "The average food has 21 out of 27 micro nutrients present\n"
     ]
    }
   ],
   "source": [
    "micro_per_food_median = micro_per_food.median()\n",
    "print(f'The average food has {int(micro_per_food_median)} out of {micro_matrix_portions.shape[0]} micro nutrients present')"
   ]
  },
  {
   "cell_type": "markdown",
   "metadata": {},
   "source": [
    "### Remarks\n",
    "It is evident that it is easy to get a wide variety of nutrients with very few foods. After all, foods have 21/27 required micro nutrients on average. We can conclude from this that with moderate variety of food we can easily satisfy our daily needs. Using this revelation, we can prioritize calorie content to remain a healthy weight. Also, because we know that protein tends to increase feelings of satiety, we can prioritize foods with higher protein content.\n",
    "\n",
    "Let's look at food density scaled by calories."
   ]
  },
  {
   "cell_type": "code",
   "execution_count": 98,
   "metadata": {},
   "outputs": [
    {
     "data": {
      "text/plain": [
       "Lamb, liver, grilled, no added fat                                  124.598153\n",
       "Spread, yeast, vegemite                                             120.173452\n",
       "Abalone, green lip, aquacultured, raw                               116.817094\n",
       "Oyster, native, aquacultured, raw                                   102.464689\n",
       "Spread, yeast, marmite                                               86.239455\n",
       "Oyster, aquacultured, raw                                            82.063035\n",
       "Oyster, Pacific, aquacultured, raw                                   80.211704\n",
       "Abalone, green lip, wild, raw                                        79.025378\n",
       "Chicken, liver, raw                                                  77.894821\n",
       "Oyster, Sydney rock, aquacultured, raw                               76.534165\n",
       "Coffee, black, from instant coffee powder, decaffeinated             73.991604\n",
       "Coffee, black, from instant coffee powder                            73.991604\n",
       "Parsley, curly, fresh, raw                                            70.57485\n",
       "Capsicum, green, fresh, raw                                          66.961429\n",
       "Capsicum, red, fresh, raw                                            64.378515\n",
       "Octopus, raw                                                         63.345074\n",
       "Tea, green, plain, without milk                                      62.090965\n",
       "Lobster, southern rock, wild, flesh, raw                             61.150627\n",
       "Lobster, southern rock, wild, flesh, purchased steamed or boiled     60.478604\n",
       "Spinach, baby, fresh, raw                                            59.287031\n",
       "dtype: object"
      ]
     },
     "execution_count": 98,
     "metadata": {},
     "output_type": "execute_result"
    }
   ],
   "source": [
    "# Scale density score by calories\n",
    "\n",
    "calories = nutrient_reduced['Calories']\n",
    "calories = calories.rename(index=food_name) \n",
    "\n",
    "# Dropping 0 cal 'foods' like salt, baking powder, etc.\n",
    "food_score_with_cal = pd.concat([micro_food_score, calories], axis=1)\n",
    "food_score_with_cal = food_score_with_cal.rename(columns={0:'Score'})\n",
    "zero_cal = calories[calories<0.005]\n",
    "food_score_with_cal = food_score_with_cal.drop(index=zero_cal.index)\n",
    "\n",
    "# Scale food score\n",
    "food_score_scaled = food_score_with_cal['Score']/food_score_with_cal['Calories']\n",
    "# micro_food_score_scaled_sorted = micro_food_score.sort_values()\n",
    "# micro_food_score_scaled_sorted\n",
    "food_score_scaled_sorted = food_score_scaled.sort_values(ascending=False)\n",
    "food_score_scaled_sorted.head(20)"
   ]
  },
  {
   "cell_type": "code",
   "execution_count": 99,
   "metadata": {},
   "outputs": [
    {
     "data": {
      "text/plain": [
       "Index(['Calories', 'Protein', 'Fat', 'Fiber', 'Sugar', 'Carbs', 'Calcium',\n",
       "       'Copper', 'Iodine', 'Iron', 'Magnesium', 'Manganese', 'Phosphorus',\n",
       "       'Potassium', 'Selenium', 'Sodium', 'Zinc', 'Vitamin A', 'Vitamin B1',\n",
       "       'Vitamin B2', 'Vitamin B3', 'Vitamin B5', 'Vitamin B6', 'Vitamin B12',\n",
       "       'Vitamin B9', 'Vitamin C', 'Vitamin D', 'Vitamin E', 'Saturated Fat',\n",
       "       'Omega 3s', 'Cholesterol', 'Tryptophan', 'Omega 6s', 'Food Name'],\n",
       "      dtype='object')"
      ]
     },
     "execution_count": 99,
     "metadata": {},
     "output_type": "execute_result"
    }
   ],
   "source": [
    "nutrient_reduced.columns"
   ]
  },
  {
   "cell_type": "code",
   "execution_count": 103,
   "metadata": {},
   "outputs": [
    {
     "data": {
      "text/html": [
       "<div>\n",
       "<style scoped>\n",
       "    .dataframe tbody tr th:only-of-type {\n",
       "        vertical-align: middle;\n",
       "    }\n",
       "\n",
       "    .dataframe tbody tr th {\n",
       "        vertical-align: top;\n",
       "    }\n",
       "\n",
       "    .dataframe thead th {\n",
       "        text-align: right;\n",
       "    }\n",
       "</style>\n",
       "<table border=\"1\" class=\"dataframe\">\n",
       "  <thead>\n",
       "    <tr style=\"text-align: right;\">\n",
       "      <th></th>\n",
       "      <th>Calories</th>\n",
       "      <th>Protein</th>\n",
       "      <th>Fat</th>\n",
       "      <th>Sugar</th>\n",
       "      <th>Carbs</th>\n",
       "      <th>Saturated Fat</th>\n",
       "      <th>Micro Score</th>\n",
       "    </tr>\n",
       "  </thead>\n",
       "  <tbody>\n",
       "    <tr>\n",
       "      <th>Cardamom seed, dried, ground</th>\n",
       "      <td>2.942857</td>\n",
       "      <td>0.108</td>\n",
       "      <td>0.067</td>\n",
       "      <td>0.044</td>\n",
       "      <td>0.344</td>\n",
       "      <td>0.0220</td>\n",
       "      <td>19.905493</td>\n",
       "    </tr>\n",
       "    <tr>\n",
       "      <th>Chilli (chili), dried, ground</th>\n",
       "      <td>3.047619</td>\n",
       "      <td>0.134</td>\n",
       "      <td>0.143</td>\n",
       "      <td>0.072</td>\n",
       "      <td>0.149</td>\n",
       "      <td>0.0206</td>\n",
       "      <td>45.261913</td>\n",
       "    </tr>\n",
       "    <tr>\n",
       "      <th>Cinnamon, dried, ground</th>\n",
       "      <td>2.390476</td>\n",
       "      <td>0.040</td>\n",
       "      <td>0.012</td>\n",
       "      <td>0.022</td>\n",
       "      <td>0.275</td>\n",
       "      <td>0.0062</td>\n",
       "      <td>14.167976</td>\n",
       "    </tr>\n",
       "    <tr>\n",
       "      <th>Cloves, dried, ground</th>\n",
       "      <td>3.307143</td>\n",
       "      <td>0.060</td>\n",
       "      <td>0.130</td>\n",
       "      <td>0.024</td>\n",
       "      <td>0.316</td>\n",
       "      <td>0.0549</td>\n",
       "      <td>20.990972</td>\n",
       "    </tr>\n",
       "    <tr>\n",
       "      <th>Coriander seed, dried, ground</th>\n",
       "      <td>3.200000</td>\n",
       "      <td>0.124</td>\n",
       "      <td>0.178</td>\n",
       "      <td>0.024</td>\n",
       "      <td>0.084</td>\n",
       "      <td>0.0103</td>\n",
       "      <td>24.752117</td>\n",
       "    </tr>\n",
       "  </tbody>\n",
       "</table>\n",
       "</div>"
      ],
      "text/plain": [
       "                               Calories  Protein    Fat  Sugar  Carbs  \\\n",
       "Cardamom seed, dried, ground   2.942857    0.108  0.067  0.044  0.344   \n",
       "Chilli (chili), dried, ground  3.047619    0.134  0.143  0.072  0.149   \n",
       "Cinnamon, dried, ground        2.390476    0.040  0.012  0.022  0.275   \n",
       "Cloves, dried, ground          3.307143    0.060  0.130  0.024  0.316   \n",
       "Coriander seed, dried, ground  3.200000    0.124  0.178  0.024  0.084   \n",
       "\n",
       "                               Saturated Fat Micro Score  \n",
       "Cardamom seed, dried, ground          0.0220   19.905493  \n",
       "Chilli (chili), dried, ground         0.0206   45.261913  \n",
       "Cinnamon, dried, ground               0.0062   14.167976  \n",
       "Cloves, dried, ground                 0.0549   20.990972  \n",
       "Coriander seed, dried, ground         0.0103   24.752117  "
      ]
     },
     "execution_count": 103,
     "metadata": {},
     "output_type": "execute_result"
    }
   ],
   "source": [
    "# Make macro nutrient df that contains micro nutrient score#\n",
    "\n",
    "macros = ['Calories', 'Carbs', 'Protein', 'Fat', 'Sugar', 'Saturated Fat'] # Not dropping omega fatty acids\n",
    "dv = dv_clean['DV and RDI, Highest'] \n",
    "macros_with_micro_score = nutrient_reduced.drop(columns = nutrient_reduced.columns.difference(['Calories', 'Carbs', 'Protein', \n",
    "                                                                                               'Fat', 'Sugar', 'Saturated Fat']))\n",
    "macros_with_micro_score = macros_with_micro_score.rename(index=food_name) # Put food names back in\n",
    "macros_with_micro_score['Micro Score'] = micro_food_score\n",
    "macros_with_micro_score.head()"
   ]
  },
  {
   "cell_type": "code",
   "execution_count": 106,
   "metadata": {},
   "outputs": [
    {
     "data": {
      "text/html": [
       "<style type=\"text/css\">\n",
       "#T_c6fd5_row0_col0, #T_c6fd5_row1_col1, #T_c6fd5_row2_col2, #T_c6fd5_row3_col3, #T_c6fd5_row4_col4, #T_c6fd5_row5_col5, #T_c6fd5_row6_col6 {\n",
       "  background-color: #b40426;\n",
       "  color: #f1f1f1;\n",
       "}\n",
       "#T_c6fd5_row0_col1 {\n",
       "  background-color: #a6c4fe;\n",
       "  color: #000000;\n",
       "}\n",
       "#T_c6fd5_row0_col2 {\n",
       "  background-color: #e26952;\n",
       "  color: #f1f1f1;\n",
       "}\n",
       "#T_c6fd5_row0_col3 {\n",
       "  background-color: #bbd1f8;\n",
       "  color: #000000;\n",
       "}\n",
       "#T_c6fd5_row0_col4 {\n",
       "  background-color: #e5d8d1;\n",
       "  color: #000000;\n",
       "}\n",
       "#T_c6fd5_row0_col5 {\n",
       "  background-color: #f7b093;\n",
       "  color: #000000;\n",
       "}\n",
       "#T_c6fd5_row0_col6 {\n",
       "  background-color: #9fbfff;\n",
       "  color: #000000;\n",
       "}\n",
       "#T_c6fd5_row1_col0, #T_c6fd5_row1_col3, #T_c6fd5_row1_col4, #T_c6fd5_row3_col1, #T_c6fd5_row3_col6, #T_c6fd5_row4_col1, #T_c6fd5_row4_col2, #T_c6fd5_row4_col5 {\n",
       "  background-color: #3b4cc0;\n",
       "  color: #f1f1f1;\n",
       "}\n",
       "#T_c6fd5_row1_col2 {\n",
       "  background-color: #5875e1;\n",
       "  color: #f1f1f1;\n",
       "}\n",
       "#T_c6fd5_row1_col5 {\n",
       "  background-color: #4a63d3;\n",
       "  color: #f1f1f1;\n",
       "}\n",
       "#T_c6fd5_row1_col6 {\n",
       "  background-color: #dfdbd9;\n",
       "  color: #000000;\n",
       "}\n",
       "#T_c6fd5_row2_col0 {\n",
       "  background-color: #e97a5f;\n",
       "  color: #f1f1f1;\n",
       "}\n",
       "#T_c6fd5_row2_col1, #T_c6fd5_row2_col6 {\n",
       "  background-color: #8caffe;\n",
       "  color: #000000;\n",
       "}\n",
       "#T_c6fd5_row2_col3, #T_c6fd5_row5_col4, #T_c6fd5_row6_col2 {\n",
       "  background-color: #7b9ff9;\n",
       "  color: #f1f1f1;\n",
       "}\n",
       "#T_c6fd5_row2_col4 {\n",
       "  background-color: #7093f3;\n",
       "  color: #f1f1f1;\n",
       "}\n",
       "#T_c6fd5_row2_col5 {\n",
       "  background-color: #ee8468;\n",
       "  color: #f1f1f1;\n",
       "}\n",
       "#T_c6fd5_row3_col0, #T_c6fd5_row6_col0 {\n",
       "  background-color: #5673e0;\n",
       "  color: #f1f1f1;\n",
       "}\n",
       "#T_c6fd5_row3_col2 {\n",
       "  background-color: #465ecf;\n",
       "  color: #f1f1f1;\n",
       "}\n",
       "#T_c6fd5_row3_col4, #T_c6fd5_row4_col3 {\n",
       "  background-color: #f7ac8e;\n",
       "  color: #000000;\n",
       "}\n",
       "#T_c6fd5_row3_col5 {\n",
       "  background-color: #4f69d9;\n",
       "  color: #f1f1f1;\n",
       "}\n",
       "#T_c6fd5_row4_col0 {\n",
       "  background-color: #a2c1ff;\n",
       "  color: #000000;\n",
       "}\n",
       "#T_c6fd5_row4_col6 {\n",
       "  background-color: #4b64d5;\n",
       "  color: #f1f1f1;\n",
       "}\n",
       "#T_c6fd5_row5_col0 {\n",
       "  background-color: #f5c1a9;\n",
       "  color: #000000;\n",
       "}\n",
       "#T_c6fd5_row5_col1 {\n",
       "  background-color: #8badfd;\n",
       "  color: #000000;\n",
       "}\n",
       "#T_c6fd5_row5_col2 {\n",
       "  background-color: #ec8165;\n",
       "  color: #f1f1f1;\n",
       "}\n",
       "#T_c6fd5_row5_col3 {\n",
       "  background-color: #8fb1fe;\n",
       "  color: #000000;\n",
       "}\n",
       "#T_c6fd5_row5_col6 {\n",
       "  background-color: #6e90f2;\n",
       "  color: #f1f1f1;\n",
       "}\n",
       "#T_c6fd5_row6_col1 {\n",
       "  background-color: #ecd3c5;\n",
       "  color: #000000;\n",
       "}\n",
       "#T_c6fd5_row6_col3 {\n",
       "  background-color: #5e7de7;\n",
       "  color: #f1f1f1;\n",
       "}\n",
       "#T_c6fd5_row6_col4 {\n",
       "  background-color: #6f92f3;\n",
       "  color: #f1f1f1;\n",
       "}\n",
       "#T_c6fd5_row6_col5 {\n",
       "  background-color: #506bda;\n",
       "  color: #f1f1f1;\n",
       "}\n",
       "</style>\n",
       "<table id=\"T_c6fd5\">\n",
       "  <thead>\n",
       "    <tr>\n",
       "      <th class=\"blank level0\" >&nbsp;</th>\n",
       "      <th id=\"T_c6fd5_level0_col0\" class=\"col_heading level0 col0\" >Calories</th>\n",
       "      <th id=\"T_c6fd5_level0_col1\" class=\"col_heading level0 col1\" >Protein</th>\n",
       "      <th id=\"T_c6fd5_level0_col2\" class=\"col_heading level0 col2\" >Fat</th>\n",
       "      <th id=\"T_c6fd5_level0_col3\" class=\"col_heading level0 col3\" >Sugar</th>\n",
       "      <th id=\"T_c6fd5_level0_col4\" class=\"col_heading level0 col4\" >Carbs</th>\n",
       "      <th id=\"T_c6fd5_level0_col5\" class=\"col_heading level0 col5\" >Saturated Fat</th>\n",
       "      <th id=\"T_c6fd5_level0_col6\" class=\"col_heading level0 col6\" >Micro Score</th>\n",
       "    </tr>\n",
       "  </thead>\n",
       "  <tbody>\n",
       "    <tr>\n",
       "      <th id=\"T_c6fd5_level0_row0\" class=\"row_heading level0 row0\" >Calories</th>\n",
       "      <td id=\"T_c6fd5_row0_col0\" class=\"data row0 col0\" >1.000000</td>\n",
       "      <td id=\"T_c6fd5_row0_col1\" class=\"data row0 col1\" >0.119396</td>\n",
       "      <td id=\"T_c6fd5_row0_col2\" class=\"data row0 col2\" >0.844911</td>\n",
       "      <td id=\"T_c6fd5_row0_col3\" class=\"data row0 col3\" >0.198656</td>\n",
       "      <td id=\"T_c6fd5_row0_col4\" class=\"data row0 col4\" >0.391327</td>\n",
       "      <td id=\"T_c6fd5_row0_col5\" class=\"data row0 col5\" >0.678888</td>\n",
       "      <td id=\"T_c6fd5_row0_col6\" class=\"data row0 col6\" >0.200274</td>\n",
       "    </tr>\n",
       "    <tr>\n",
       "      <th id=\"T_c6fd5_level0_row1\" class=\"row_heading level0 row1\" >Protein</th>\n",
       "      <td id=\"T_c6fd5_row1_col0\" class=\"data row1 col0\" >0.119396</td>\n",
       "      <td id=\"T_c6fd5_row1_col1\" class=\"data row1 col1\" >1.000000</td>\n",
       "      <td id=\"T_c6fd5_row1_col2\" class=\"data row1 col2\" >0.021909</td>\n",
       "      <td id=\"T_c6fd5_row1_col3\" class=\"data row1 col3\" >-0.299097</td>\n",
       "      <td id=\"T_c6fd5_row1_col4\" class=\"data row1 col4\" >-0.300995</td>\n",
       "      <td id=\"T_c6fd5_row1_col5\" class=\"data row1 col5\" >0.018127</td>\n",
       "      <td id=\"T_c6fd5_row1_col6\" class=\"data row1 col6\" >0.434578</td>\n",
       "    </tr>\n",
       "    <tr>\n",
       "      <th id=\"T_c6fd5_level0_row2\" class=\"row_heading level0 row2\" >Fat</th>\n",
       "      <td id=\"T_c6fd5_row2_col0\" class=\"data row2 col0\" >0.844911</td>\n",
       "      <td id=\"T_c6fd5_row2_col1\" class=\"data row2 col1\" >0.021909</td>\n",
       "      <td id=\"T_c6fd5_row2_col2\" class=\"data row2 col2\" >1.000000</td>\n",
       "      <td id=\"T_c6fd5_row2_col3\" class=\"data row2 col3\" >-0.039121</td>\n",
       "      <td id=\"T_c6fd5_row2_col4\" class=\"data row2 col4\" >-0.082176</td>\n",
       "      <td id=\"T_c6fd5_row2_col5\" class=\"data row2 col5\" >0.791120</td>\n",
       "      <td id=\"T_c6fd5_row2_col6\" class=\"data row2 col6\" >0.133684</td>\n",
       "    </tr>\n",
       "    <tr>\n",
       "      <th id=\"T_c6fd5_level0_row3\" class=\"row_heading level0 row3\" >Sugar</th>\n",
       "      <td id=\"T_c6fd5_row3_col0\" class=\"data row3 col0\" >0.198656</td>\n",
       "      <td id=\"T_c6fd5_row3_col1\" class=\"data row3 col1\" >-0.299097</td>\n",
       "      <td id=\"T_c6fd5_row3_col2\" class=\"data row3 col2\" >-0.039121</td>\n",
       "      <td id=\"T_c6fd5_row3_col3\" class=\"data row3 col3\" >1.000000</td>\n",
       "      <td id=\"T_c6fd5_row3_col4\" class=\"data row3 col4\" >0.609591</td>\n",
       "      <td id=\"T_c6fd5_row3_col5\" class=\"data row3 col5\" >0.033901</td>\n",
       "      <td id=\"T_c6fd5_row3_col6\" class=\"data row3 col6\" >-0.150083</td>\n",
       "    </tr>\n",
       "    <tr>\n",
       "      <th id=\"T_c6fd5_level0_row4\" class=\"row_heading level0 row4\" >Carbs</th>\n",
       "      <td id=\"T_c6fd5_row4_col0\" class=\"data row4 col0\" >0.391327</td>\n",
       "      <td id=\"T_c6fd5_row4_col1\" class=\"data row4 col1\" >-0.300995</td>\n",
       "      <td id=\"T_c6fd5_row4_col2\" class=\"data row4 col2\" >-0.082176</td>\n",
       "      <td id=\"T_c6fd5_row4_col3\" class=\"data row4 col3\" >0.609591</td>\n",
       "      <td id=\"T_c6fd5_row4_col4\" class=\"data row4 col4\" >1.000000</td>\n",
       "      <td id=\"T_c6fd5_row4_col5\" class=\"data row4 col5\" >-0.037064</td>\n",
       "      <td id=\"T_c6fd5_row4_col6\" class=\"data row4 col6\" >-0.085259</td>\n",
       "    </tr>\n",
       "    <tr>\n",
       "      <th id=\"T_c6fd5_level0_row5\" class=\"row_heading level0 row5\" >Saturated Fat</th>\n",
       "      <td id=\"T_c6fd5_row5_col0\" class=\"data row5 col0\" >0.678888</td>\n",
       "      <td id=\"T_c6fd5_row5_col1\" class=\"data row5 col1\" >0.018127</td>\n",
       "      <td id=\"T_c6fd5_row5_col2\" class=\"data row5 col2\" >0.791120</td>\n",
       "      <td id=\"T_c6fd5_row5_col3\" class=\"data row5 col3\" >0.033901</td>\n",
       "      <td id=\"T_c6fd5_row5_col4\" class=\"data row5 col4\" >-0.037064</td>\n",
       "      <td id=\"T_c6fd5_row5_col5\" class=\"data row5 col5\" >1.000000</td>\n",
       "      <td id=\"T_c6fd5_row5_col6\" class=\"data row5 col6\" >0.036653</td>\n",
       "    </tr>\n",
       "    <tr>\n",
       "      <th id=\"T_c6fd5_level0_row6\" class=\"row_heading level0 row6\" >Micro Score</th>\n",
       "      <td id=\"T_c6fd5_row6_col0\" class=\"data row6 col0\" >0.200274</td>\n",
       "      <td id=\"T_c6fd5_row6_col1\" class=\"data row6 col1\" >0.434578</td>\n",
       "      <td id=\"T_c6fd5_row6_col2\" class=\"data row6 col2\" >0.133684</td>\n",
       "      <td id=\"T_c6fd5_row6_col3\" class=\"data row6 col3\" >-0.150083</td>\n",
       "      <td id=\"T_c6fd5_row6_col4\" class=\"data row6 col4\" >-0.085259</td>\n",
       "      <td id=\"T_c6fd5_row6_col5\" class=\"data row6 col5\" >0.036653</td>\n",
       "      <td id=\"T_c6fd5_row6_col6\" class=\"data row6 col6\" >1.000000</td>\n",
       "    </tr>\n",
       "  </tbody>\n",
       "</table>\n"
      ],
      "text/plain": [
       "<pandas.io.formats.style.Styler at 0x1a39affd190>"
      ]
     },
     "execution_count": 106,
     "metadata": {},
     "output_type": "execute_result"
    }
   ],
   "source": [
    "macros_with_micro_score.corr().style.background_gradient(cmap='coolwarm')"
   ]
  },
  {
   "cell_type": "code",
   "execution_count": null,
   "metadata": {},
   "outputs": [],
   "source": []
  },
  {
   "cell_type": "code",
   "execution_count": null,
   "metadata": {},
   "outputs": [],
   "source": []
  },
  {
   "cell_type": "code",
   "execution_count": null,
   "metadata": {},
   "outputs": [],
   "source": []
  },
  {
   "cell_type": "code",
   "execution_count": null,
   "metadata": {},
   "outputs": [],
   "source": []
  },
  {
   "cell_type": "code",
   "execution_count": null,
   "metadata": {},
   "outputs": [],
   "source": []
  },
  {
   "cell_type": "code",
   "execution_count": null,
   "metadata": {},
   "outputs": [],
   "source": []
  },
  {
   "cell_type": "code",
   "execution_count": 39,
   "metadata": {},
   "outputs": [
    {
     "ename": "SyntaxError",
     "evalue": "'break' outside loop (668683560.py, line 1)",
     "output_type": "error",
     "traceback": [
      "\u001b[1;36m  Cell \u001b[1;32mIn[39], line 1\u001b[1;36m\u001b[0m\n\u001b[1;33m    break\u001b[0m\n\u001b[1;37m    ^\u001b[0m\n\u001b[1;31mSyntaxError\u001b[0m\u001b[1;31m:\u001b[0m 'break' outside loop\n"
     ]
    }
   ],
   "source": [
    "break"
   ]
  },
  {
   "cell_type": "markdown",
   "metadata": {},
   "source": [
    "## Attempting to find arbitrary solutions to matrix equation\n",
    "The goal of this section is to output any set of foods that will satisfy the daily goals.\n",
    "\n",
    "This problem is so much more complex I than I really imagined. In truth, there are infinitely many solutions and so I thought I would be able to explore this space."
   ]
  },
  {
   "cell_type": "markdown",
   "metadata": {},
   "source": [
    "#### Mathematic Model\n",
    "The tables above leave us with a linear equation of the form:\n",
    "$$a_{1}f_{1} + ... + a_{m}f_{m} = v_{T}$$ \n",
    "where, $$a_{k} \\in \\mathbb{R}, f_{k} \\in V$$ \n",
    "and, $$k \\in {0,...,m}$$\n",
    "\n",
    "Here the daily value required is represented by the vector $v_T$, with entries in the vector being daily value nutrient limits.\n",
    "\n",
    "The list of vectors, $f$, represent the nutrient profile of a given food, with its $k^{th}$ element being the $k^{th}$ nutrient in $v_T$.\n",
    "\n",
    "The scalars, $a$, are the amounts, or portion size, of the foods in $f$ that satisfy the equation above. This equation can be written in its matrix form:\n",
    "\n",
    "$$Fa = v_T$$\n",
    "\n",
    "By solving the equation for the amounts $a$, we can get a list of foods that satisfy our days nutrition needs. Thus, satisfying a major goal of this project."
   ]
  },
  {
   "cell_type": "markdown",
   "metadata": {},
   "source": [
    "### 1. Try to generate a smaller tensor and find feasible region inside it\n",
    "Problem:Generating combinations results in 33*1616^1000 combinations"
   ]
  },
  {
   "cell_type": "code",
   "execution_count": null,
   "metadata": {},
   "outputs": [],
   "source": [
    "# a_grid = np.arange(0,1000,1)\n",
    "# # food_matrix = np.asarray(nutrient_values_only.transpose())\n",
    "# food_amount_tensor = np.outer(food_matrix, a_grid)\n",
    "# food_amount_tensor.shape\n"
   ]
  },
  {
   "cell_type": "code",
   "execution_count": null,
   "metadata": {},
   "outputs": [],
   "source": [
    "# Match nutrient index orders\n",
    "food_matrix = nutrient_values_only.transpose()\n",
    "food_matrix = food_matrix.merge(dv_clean['DV and RDI, Highest'],left_index=True, right_index=True)\n",
    "# df.merge(s, left_index=True, right_index=True)\n",
    "food_matrix.head()"
   ]
  },
  {
   "cell_type": "code",
   "execution_count": null,
   "metadata": {},
   "outputs": [],
   "source": [
    "# Set the inequalities #\n",
    "\"\"\"Note: For now we will ignore dietary cholesterol due to it mostly being seen as benign.\"\"\"\n",
    "\"\"\"Note: There are few upper limits, so they are set arbitrarily high unless otherwise specified.\"\"\" \n",
    "\n",
    "## Set mins ##\n",
    "v_min = food_matrix['DV and RDI, Highest'] #most values are a minimum, start here\n",
    "v_min['Sugar'] = 0 #Sugar in DV is a max\n",
    "v_min['Saturated Fat'] = 0 #Sat Fat in DV is a max\n",
    "v_min['Calories'] = 1700 #Caution on the lower side\n",
    "v_min['Cholesterol'] = 0\n",
    "\n",
    "## Set carbs and fat inequality to be +/- 20% RDI/DV\n",
    "v_min['Carbs'] = food_matrix.loc['Carbs', 'DV and RDI, Highest']*.80\n",
    "v_min['Fat'] = food_matrix.loc['Carbs', 'DV and RDI, Highest']*.80\n",
    "\n",
    "## Set maxs ##\n",
    "v_max = food_matrix['DV and RDI, Highest'].copy()*10000 #most values are a minimum, set max to be arbitrarily high\n",
    "v_max['Sugar'] = food_matrix.loc['Sugar', 'DV and RDI, Highest'] # Sugar in DV is a max\n",
    "v_max['Saturated Fat'] =  food_matrix.loc['Saturated Fat', 'DV and RDI, Highest']# Sat Fat in DV is a max\n",
    "v_max['Calories'] = 2100 # A little over is OK\n",
    "\n",
    "\n",
    "## Set carbs and fat inequality to be +/- 20% RDI/DV\n",
    "v_max['Carbs'] = food_matrix.loc['Carbs', 'DV and RDI, Highest']*1.20\n",
    "v_max['Fat'] = food_matrix.loc['Carbs', 'DV and RDI, Highest']*1.20\n",
    "\n",
    "# Drop DV/RDI column before calculation\n",
    "food_matrix = food_matrix.drop(columns = 'DV and RDI, Highest')"
   ]
  },
  {
   "cell_type": "code",
   "execution_count": null,
   "metadata": {},
   "outputs": [],
   "source": [
    "# Trying to sum every possible combination of food and amount for a single nutrient\n",
    "from itertools import product\n",
    "\n",
    "def sum_without_same_row_elements(matrix):\n",
    "    num_rows, num_cols = matrix.shape\n",
    "    \n",
    "    # Generate all combinations of selecting one element per row\n",
    "    row_combinations = product(range(num_cols), repeat=num_rows)\n",
    "    \n",
    "    # Compute the sum for each combination\n",
    "    sums = []\n",
    "    i=0\n",
    "    for _ in row_combinations:\n",
    "        i+=1\n",
    "    print(i)\n",
    "    # for combination in row_combinations:\n",
    "    #     i+=1\n",
    "    #     print(f\"Attempt {i}\")\n",
    "    #     total = sum(matrix[row, col] for row, col in enumerate(combination))\n",
    "    #     sums.append((combination, total))\n",
    "    \n",
    "    # return sums\n",
    "\n"
   ]
  },
  {
   "cell_type": "code",
   "execution_count": null,
   "metadata": {},
   "outputs": [],
   "source": [
    "import itertools\n",
    "\n",
    "def generate_sums(vectors):\n",
    "    all_combinations = itertools.product(*vectors)\n",
    "    sums = [sum(combination) for combination in all_combinations]\n",
    "    return sums\n",
    "\n",
    "# Example usage:\n",
    "vectors = [\n",
    "    [1, 2, 3, 4],\n",
    "    [4, 5, 6, 4],\n",
    "    [7, 8, 9, 4]\n",
    "]\n",
    "\n",
    "sums = generate_sums(vectors)\n",
    "print(len(sums))\n"
   ]
  },
  {
   "cell_type": "markdown",
   "metadata": {},
   "source": [
    "### 2. Find random solutions to the inequality\n",
    "Problem: Creates random amounts of all foods never seems to find a solution"
   ]
  },
  {
   "cell_type": "code",
   "execution_count": null,
   "metadata": {},
   "outputs": [],
   "source": [
    "# Set the inequalities #\n",
    "\"\"\"Note: For now we will ignore dietary cholesterol due to it mostly being seen as benign.\"\"\"\n",
    "\"\"\"Note: There are few upper limits, so they are set arbitrarily high unless otherwise specified.\"\"\" \n",
    "\n",
    "## Set mins ##\n",
    "v_min = dv_clean['DV and RDI, Highest'].copy() #most values are a minimum, start here\n",
    "v_min['Sugar'] = 0 #Sugar in DV is a max\n",
    "v_min['Saturated Fat'] = 0 #Sat Fat in DV is a max\n",
    "v_min['Calories'] = 1700 #Caution on the lower side\n",
    "v_min['Cholesterol'] = 0\n",
    "\n",
    "## Set carbs and fat inequality to be +/- 20% RDI/DV\n",
    "v_min['Carbs'] = dv_clean.loc['Carbs', 'DV and RDI, Highest']*.80\n",
    "v_min['Fat'] = dv_clean.loc['Carbs', 'DV and RDI, Highest']*.80\n",
    "\n",
    "## Set maxs ##\n",
    "v_max = dv_clean['DV and RDI, Highest'].copy()*10000 #most values are a minimum, set max to be arbitrarily high\n",
    "v_max['Sugar'] = dv_clean.loc['Sugar', 'DV and RDI, Highest'] # Sugar in DV is a max\n",
    "v_max['Saturated Fat'] =  dv_clean.loc['Saturated Fat', 'DV and RDI, Highest']# Sat Fat in DV is a max\n",
    "v_max['Calories'] = 2100 # A little over is OK\n",
    "\n",
    "\n",
    "## Set carbs and fat inequality to be +/- 20% RDI/DV\n",
    "v_max['Carbs'] = dv_clean.loc['Carbs', 'DV and RDI, Highest']*1.20\n",
    "v_max['Fat'] = dv_clean.loc['Carbs', 'DV and RDI, Highest']*1.20\n"
   ]
  },
  {
   "cell_type": "code",
   "execution_count": null,
   "metadata": {},
   "outputs": [],
   "source": [
    "# Generate random solutions #\n",
    "\"\"\"This approach is indefinite and takes forever. Also it will likely produce too many \"\"\"\n",
    "def generate_random_solutions(F, v_min, v_max, a_max, num_samples=1):\n",
    "    \"\"\"Generates a random a vector until one satisfies v_min < Fa < v_max\"\"\"\n",
    "    num_vars = F.shape[1]  # Number of variables (components of vector a)\n",
    "    solutions = []\n",
    "    for _ in range(num_samples):\n",
    "        valid = False\n",
    "        attempt_count=0\n",
    "        while not valid:\n",
    "            # Generate a random vector a within the given bounds\n",
    "            a = np.array([np.random.randint(0, a_max)for i in range(num_vars)])\n",
    "     \n",
    "            # Check if random guess satisfies inequality\n",
    "            if np.all(np.dot(F, a) < v_max) and np.all(np.dot(F,a) > v_min):\n",
    "                valid = True\n",
    "                solutions.append(a)\n",
    "            elif attempt_count < 1e3:\n",
    "                attempt_count += 1\n",
    "            else:\n",
    "                print(f'No solution found after {attempt_count} attempts')\n",
    "                valid = True\n",
    "                \n",
    "    \n",
    "    return solutions"
   ]
  },
  {
   "cell_type": "code",
   "execution_count": null,
   "metadata": {},
   "outputs": [],
   "source": [
    "# Generate a random food and add back food names #\n",
    "import time\n",
    "start_time = time.time()\n",
    "random_food_solution = generate_random_solutions(F=nutrient_values_only.transpose(), v_min=v_min, v_max=v_max, a_max=1000)\n",
    "random_food_solution\n",
    "print(\"--- %s seconds ---\" % (time.time() - start_time))\n"
   ]
  },
  {
   "cell_type": "code",
   "execution_count": null,
   "metadata": {},
   "outputs": [],
   "source": [
    "# random_food = pd.DataFrame({food_name:random_food_solutions})\n",
    "# random_food.head()"
   ]
  },
  {
   "cell_type": "markdown",
   "metadata": {},
   "source": [
    "### 2.2 Selecting points that pass this criteria"
   ]
  },
  {
   "cell_type": "code",
   "execution_count": null,
   "metadata": {},
   "outputs": [],
   "source": [
    "# Define the bounds for generating random solutions\n",
    "bounds = [0,1000]\n",
    "\n",
    "# Function to generate random points within bounds\n",
    "def generate_random_points(matrix, num_points, bounds):\n",
    "    dim = matrix.shape[1]\n",
    "    random_points = np.random.rand(num_points, dim)\n",
    "    for i in range(dim):\n",
    "        lower, upper = bounds\n",
    "        random_points[:, i] = lower + random_points[:, i] * (upper - lower)\n",
    "    return random_points\n",
    "\n",
    "# Generate random points\n",
    "num_points = 1000\n",
    "random_points = generate_random_points(nutrient_values_only.transpose(), num_points, bounds)\n",
    "\n",
    "# Filter points that satisfy the inequality Ma < v\n",
    "valid=True # Toggle to run loop below\n",
    "while valid == False:\n",
    "   \n",
    "    feasible_points = [a for a in random_points if np.all(np.dot(nutrient_values_only.transpose(), a) < v_max) \n",
    "                   and np.all(np.dot(nutrient_values_only.transpose(), a) > v_min)]\n",
    "    if len(feasible_points) > 0:\n",
    "        valid = True\n",
    "\n",
    "\n",
    "# Print feasible points\n",
    "# print(\"Feasible points:\",feasible_points)\n"
   ]
  },
  {
   "cell_type": "markdown",
   "metadata": {},
   "source": [
    "### 3. Using least squares to find optimal solution to the linear equation\n",
    "Problem: Only works with small data sets, otherwise all values are 0 and residual is astronomical. Doesn't work with inequalities"
   ]
  },
  {
   "cell_type": "code",
   "execution_count": null,
   "metadata": {},
   "outputs": [],
   "source": [
    "## Sanity check, lets find a solution using select part of ##\n",
    "from scipy.optimize import nnls\n",
    "import random\n",
    "\n",
    "v_target = dv_clean['DV and RDI, Highest'].copy()\n",
    "v_target_reduced = np.asarray(v_target.loc[['Calories', 'Fat', 'Carbs','Protein']])\n",
    "food_df_reduced = nutrient_values_only[['Calories', 'Fat', 'Carbs','Protein']]\n",
    "food_matrix_reduced = np.asarray(food_df_reduced.transpose())\n",
    "\n",
    "# v_target = np.asarray(dv_clean['DV and RDI, Highest'])\n",
    "# food_matrix = np.asarray(nutrient_values_only.transpose())\n",
    "\n",
    "food, res = nnls(A=food_matrix_reduced, b=v_target_reduced)\n",
    "nonzero = []\n",
    "for i, f in enumerate(food):\n",
    "    if f > 0.001:\n",
    "        nonzero.append([i,f])\n",
    "nonzero = np.asarray(nonzero)\n",
    "food_name[nonzero[:,0]]\n",
    "today_you_eat = pd.DataFrame({'Food': food_name[nonzero[:,0]], 'Amount (g)': nonzero[:,1]*100})\n",
    "res"
   ]
  },
  {
   "cell_type": "code",
   "execution_count": null,
   "metadata": {},
   "outputs": [],
   "source": [
    "today_you_eat"
   ]
  },
  {
   "cell_type": "code",
   "execution_count": null,
   "metadata": {},
   "outputs": [],
   "source": [
    "v_target_reduced"
   ]
  },
  {
   "cell_type": "code",
   "execution_count": null,
   "metadata": {},
   "outputs": [],
   "source": [
    "\n",
    "def rand_lstsq_solution(F, v_target, num_samples,seed=False):\n",
    "    if seed == True:\n",
    "        random.seed(42)\n",
    "    sample = [i for i in range(F.shape[1])]\n",
    "    rand_ind = random.sample(sample, num_samples)\n",
    "    rand_names = food_name[rand_ind]\n",
    "    rand_solution, res = nnls(A=F[:,rand_ind], b=v_target)\n",
    "    \n",
    "    return [rand_names, rand_solution, res]\n",
    "\n",
    "\n",
    "    \n"
   ]
  },
  {
   "cell_type": "code",
   "execution_count": null,
   "metadata": {},
   "outputs": [],
   "source": [
    "# Generate random foods and find closest solution\n",
    "\n",
    "v_target = dv_clean['DV and RDI, Highest'].copy()\n",
    "food_matrix = np.asarray(nutrient_values_only.transpose())\n",
    "\n",
    "food_amounts = rand_lstsq_solution(food_matrix, np.asarray(v_target), 1616)\n",
    "today_you_eat = pd.DataFrame({'Food': food_amounts[0], 'Amount (g)': food_amounts[1][0]})\n"
   ]
  },
  {
   "cell_type": "code",
   "execution_count": null,
   "metadata": {},
   "outputs": [],
   "source": [
    "food_amounts[2]"
   ]
  },
  {
   "cell_type": "code",
   "execution_count": null,
   "metadata": {},
   "outputs": [],
   "source": [
    "today_you_eat"
   ]
  },
  {
   "cell_type": "markdown",
   "metadata": {},
   "source": [
    "### 4. Using linear programming to generate a set of feasible solutions\n",
    "Problem: Can only find single solution, of which must be optimized to another variable, instead of arbitrary solution in feasible region. "
   ]
  },
  {
   "cell_type": "markdown",
   "metadata": {},
   "source": [
    "#### Mathematic Model\n",
    "The tables above leave us with a linear equation of the form:\n",
    "$$a_{1}f_{1} + ... + a_{m}f_{m} = v_{T}$$ \n",
    "where, $$a_{k} \\in \\mathbb{R}, f_{k} \\in V$$ \n",
    "and, $$k \\in {0,...,m}$$\n",
    "\n",
    "Here the daily value required is represented by the vector $v_T$, with entries in the vector being daily value nutrient limits.\n",
    "\n",
    "The list of vectors, $f$, represent the nutrient profile of a given food, with its $k^{th}$ element being the $k^{th}$ nutrient in $v_T$.\n",
    "\n",
    "The scalars, $a$, are the amounts, or portion size, of the foods in $f$ that satisfy the equation above. This equation can be written in its matrix form:\n",
    "\n",
    "$$Fa = v_T$$\n",
    "\n",
    "By solving the equation for the amounts $a$, we can get a list of foods that satisfy our days nutrition needs. Thus, satisfying a major goal of this project.\n",
    "\n",
    "However, with foods this will rarely result in an exact solution. Instead, we want to find a set of solutions that satisfy the inequality,\n",
    "\n",
    "\\begin{array}{r@{\\quad}r@{\\quad}>{\\dotfill}l}\n",
    "a_{1}f_{1,1} + \\ldots + a_{m}f_{m,1} & > & v_{T, 1} \\\\\n",
    "\\ &  \\vdots \\\\\n",
    "a_{1}f_{1,n} + \\ldots + a_{m}f_{m,n} & > & v_{T, n}\n",
    "\\end{array}\n",
    "\n",
    "To do this, we can use a method called \"Linear Programming.\" We will create a feasible region using these inequalities and explore it. Furthermore, we can explore this region to optimize for different nutrients, like minimizing calories or maximizing protein."
   ]
  },
  {
   "cell_type": "code",
   "execution_count": null,
   "metadata": {},
   "outputs": [],
   "source": [
    "# Set the inequalities #\n",
    "\"\"\"Note: For now we will ignore dietary cholesterol due to it mostly being seen as benign.\"\"\"\n",
    "\"\"\"Note: There are few upper limits, so they are set arbitrarily high unless otherwise specified.\"\"\" \n",
    "\n",
    "## Set mins ##\n",
    "v_min = dv_clean['DV and RDI, Highest'].copy() #most values are a minimum, start here\n",
    "v_min['Sugar'] = 0 #Sugar in DV is a max\n",
    "v_min['Saturated Fat'] = 0 #Sat Fat in DV is a max\n",
    "v_min['Calories'] = 1700 #Caution on the lower side\n",
    "v_min['Cholesterol'] = 0\n",
    "\n",
    "## Set carbs and fat inequality to be +/- 20% RDI/DV\n",
    "v_min['Carbs'] = dv_clean.loc['Carbs', 'DV and RDI, Highest']*.80\n",
    "v_min['Fat'] = dv_clean.loc['Carbs', 'DV and RDI, Highest']*.80\n",
    "\n",
    "## Set maxs ##\n",
    "v_max = dv_clean['DV and RDI, Highest'].copy()*10000 #most values are a minimum, set max to be arbitrarily high\n",
    "v_max['Sugar'] = dv_clean.loc['Sugar', 'DV and RDI, Highest'] # Sugar in DV is a max\n",
    "v_max['Saturated Fat'] =  dv_clean.loc['Saturated Fat', 'DV and RDI, Highest']# Sat Fat in DV is a max\n",
    "v_max['Calories'] = 2100 # A little over is OK\n",
    "\n",
    "\n",
    "## Set carbs and fat inequality to be +/- 20% RDI/DV\n",
    "v_max['Carbs'] = dv_clean.loc['Carbs', 'DV and RDI, Highest']*1.20\n",
    "v_max['Fat'] = dv_clean.loc['Carbs', 'DV and RDI, Highest']*1.20\n"
   ]
  },
  {
   "cell_type": "code",
   "execution_count": null,
   "metadata": {},
   "outputs": [],
   "source": [
    "## Try dummy obective function ##\n",
    "\n",
    "from scipy.optimize import linprog\n",
    "\n",
    "# Define the matrix M \n",
    "M = np.asarray(nutrient_values_only).transpose()\n",
    "\n",
    "# Define the vectors v_min and v_max\n",
    "v_min = np.asarray(v_min)\n",
    "v_max = np.asarray(v_max)\n",
    "\n",
    "# Number of variables (length of vector a)\n",
    "n = M.shape[1]\n",
    "\n",
    "# Define the dummy objective function coefficients (all zeros)\n",
    "c = np.zeros(n)\n",
    "\n",
    "# Define the inequality constraint matrix and bounds\n",
    "A_ub = np.vstack([M, -M])\n",
    "b_ub = np.hstack([v_max, -v_min])\n",
    "\n",
    "# Solve the linear programming problem to find any feasible solution\n",
    "res = linprog(c, A_ub=A_ub, b_ub=b_ub, method='highs')\n",
    "\n",
    "res"
   ]
  },
  {
   "cell_type": "code",
   "execution_count": null,
   "metadata": {},
   "outputs": [],
   "source": [
    "## Try optimize for calories ##\n",
    "\n",
    "from scipy.optimize import linprog\n",
    "nutrient_values_only_no_cal = nutrient_values_only.drop(columns='Calories')\n",
    "v_min_no_cal = v_min.drop(index='Calories')\n",
    "v_max_no_cal = v_max.drop(index='Calories')\n",
    "\n",
    "# Define the matrix M \n",
    "M = np.asarray(nutrient_values_only_no_cal).transpose()\n",
    "\n",
    "# Define the vectors v_min and v_max\n",
    "v_min_no_cal = np.asarray(v_min_no_cal)\n",
    "v_max_no_cal = np.asarray(v_max_no_cal)\n",
    "\n",
    "# Number of variables (length of vector a)\n",
    "n = M.shape[1]\n",
    "\n",
    "# Define the dummy objective function coefficients (all zeros)\n",
    "c = np.asarray(nutrient_values_only['Calories']).transpose()\n",
    "\n",
    "# Define the inequality constraint matrix and bounds\n",
    "A_ub = np.vstack([M, -M])\n",
    "b_ub = np.hstack([v_max_no_cal, -v_min_no_cal])\n",
    "\n",
    "# Solve the linear programming problem to find any feasible solution\n",
    "res = linprog(c, A_ub=A_ub, b_ub=b_ub, method='highs')\n",
    "\n",
    "# Check if a feasible solution was found and output the result\n",
    "if res.success:\n",
    "    print('Feasible solution found:', res.x)\n",
    "else:\n",
    "    print('No feasible solution found.')"
   ]
  },
  {
   "cell_type": "code",
   "execution_count": null,
   "metadata": {},
   "outputs": [],
   "source": [
    "from scipy.optimize import linprog\n",
    "\n",
    "# Define the matrix M \n",
    "M = np.asarray(nutrient_values_only).transpose()\n",
    "\n",
    "# Define the vectors v_min and v_max\n",
    "v_min = np.asarray(v_min)\n",
    "v_max = np.asarray(v_max)\n",
    "\n",
    "# Number of variables (length of vector a)\n",
    "n = M.shape[1]\n",
    "\n",
    "# Define the dummy objective function coefficients (all zeros)\n",
    "c = np.zeros(n)\n",
    "\n",
    "# Define the inequality constraint matrix and bounds\n",
    "A_ub = np.vstack([M, -M])\n",
    "b_ub = np.hstack([v_max, -v_min])\n",
    "\n",
    "# Solve the linear programming problem to find any feasible solution\n",
    "res = linprog(c, A_ub=A_ub, b_ub=b_ub, method='highs')\n",
    "\n",
    "# Check if a feasible solution was found and output the result\n",
    "if res.success:\n",
    "    print('Feasible solution found:', res.x)\n",
    "else:\n",
    "    print('No feasible solution found.')"
   ]
  },
  {
   "cell_type": "code",
   "execution_count": null,
   "metadata": {},
   "outputs": [],
   "source": [
    "from scipy.optimize import linprog\n",
    "\n",
    "# Define the coefficients of the dummy objective function (all zeros)\n",
    "c = np.zeros(2)\n",
    "\n",
    "# Define the inequality constraint matrix\n",
    "A_ub = np.array([[1, 2],\n",
    "                 [3, 1]])\n",
    "\n",
    "# Define the upper bounds of the inequality constraints\n",
    "b_ub = np.array([20, 30])\n",
    "\n",
    "# Define the bounds for each variable\n",
    "x0_bounds = (0, None)  # x1 >= 0\n",
    "x1_bounds = (0, None)  # x2 >= 0\n",
    "\n",
    "def generate_feasible_solutions(A_ub, b_ub, bounds, num_samples=10):\n",
    "    feasible_solutions = []\n",
    "    for _ in range(num_samples):\n",
    "        # Perturb the bounds slightly to explore different feasible regions\n",
    "        perturbation = np.random.uniform(-1, 1, size=b_ub.shape)\n",
    "        b_ub_perturbed = b_ub + perturbation\n",
    "\n",
    "        # Solve the LP problem\n",
    "        res = linprog(c, A_ub=A_ub, b_ub=b_ub_perturbed, bounds=bounds, method='highs')\n",
    "\n",
    "        if res.success:\n",
    "            feasible_solutions.append(res.x)\n",
    "    \n",
    "    return feasible_solutions\n",
    "\n",
    "# Generate a set of feasible solutions\n",
    "feasible_solutions = generate_feasible_solutions(A_ub, b_ub, [x0_bounds, x1_bounds], num_samples=10)\n",
    "feasible_solutions\n",
    "# print(\"Feasible solutions:\")\n",
    "# for i, solution in enumerate(feasible_solutions, 1):\n",
    "#     print(f\"Solution {i}: {solution}\")"
   ]
  },
  {
   "cell_type": "code",
   "execution_count": null,
   "metadata": {},
   "outputs": [],
   "source": []
  }
 ],
 "metadata": {
  "kernelspec": {
   "display_name": "Python 3 (ipykernel)",
   "language": "python",
   "name": "python3"
  },
  "language_info": {
   "codemirror_mode": {
    "name": "ipython",
    "version": 3
   },
   "file_extension": ".py",
   "mimetype": "text/x-python",
   "name": "python",
   "nbconvert_exporter": "python",
   "pygments_lexer": "ipython3",
   "version": "3.11.7"
  }
 },
 "nbformat": 4,
 "nbformat_minor": 4
}
