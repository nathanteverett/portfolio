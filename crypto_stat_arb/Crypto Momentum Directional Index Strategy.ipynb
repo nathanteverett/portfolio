{
 "cells": [
  {
   "cell_type": "markdown",
   "id": "dd605252-59a7-408c-bc73-edf0873bdeb0",
   "metadata": {},
   "source": [
    "# Momentum in Crypto Using Directional Index Strategy \n",
    "\n",
    "Exploring optimization of the Directional Index Strategy. For more details, see project README.md!"
   ]
  },
  {
   "cell_type": "code",
   "execution_count": 20,
   "id": "837091fa-bd2e-441e-b6ae-ce49e0e61fce",
   "metadata": {},
   "outputs": [],
   "source": [
    "from binance.client import Client as bnb_client\n",
    "import statsmodels.api as sm\n",
    "from sklearn.preprocessing import QuantileTransformer\n",
    "from datetime import datetime\n",
    "import pandas as pd \n",
    "import numpy as np\n",
    "import matplotlib.pyplot as plt\n",
    "import seaborn as sns\n",
    "sns.set()"
   ]
  },
  {
   "cell_type": "code",
   "execution_count": 21,
   "id": "cac96a3f-5993-4bef-b2b8-7b9e08060864",
   "metadata": {},
   "outputs": [],
   "source": [
    "# # Get all USDT trading pairs\n",
    "\n",
    "# client = bnb_client(tld='US')\n",
    "\n",
    "# def get_binance_px(symbol,freq,start_ts = '2020-01-01'):\n",
    "#     data = client.get_historical_klines(symbol,freq,start_ts)\n",
    "#     columns = ['open_time','open','high','low','close','volume','close_time','quote_volume',\n",
    "#     'num_trades','taker_base_volume','taker_quote_volume','ignore']\n",
    "\n",
    "#     data = pd.DataFrame(data,columns = columns)\n",
    "    \n",
    "#     # Convert from POSIX timestamp (number of millisecond since jan 1, 1970)\n",
    "#     data['open_time'] = data['open_time'].map(lambda x: datetime.utcfromtimestamp(x/1000))\n",
    "#     data['close_time'] = data['close_time'].map(lambda x: datetime.utcfromtimestamp(x/1000))\n",
    "#     return data \n",
    "# # Fetch all trading pairs\n",
    "# exchange_info = client.get_exchange_info()\n",
    "\n",
    "# # Extract all symbols that end with \"USDT\"\n",
    "# univ = [symbol['symbol'] for symbol in exchange_info['symbols'] if symbol['quoteAsset'] == 'USDT']\n",
    "\n",
    "# freq = '1d' #technically a period\n",
    "# px = {}\n",
    "# vol = {}\n",
    "# high = {}\n",
    "# low = {}\n",
    "# for x in univ:\n",
    "#     data = get_binance_px(x,freq)\n",
    "#     px[x] = data.set_index('open_time')['close']\n",
    "#     vol[x] = data.set_index('open_time')['volume']\n",
    "#     high[x] = data.set_index('open_time')['high']\n",
    "#     low[x] = data.set_index('open_time')['low']\n",
    "\n",
    "\n",
    "# px = pd.DataFrame(px).astype(float)\n",
    "# px = px.reindex(pd.date_range(px.index[0],px.index[-1],freq=freq))\n",
    "\n",
    "# vol = pd.DataFrame(vol).astype(float)\n",
    "# vol = vol.reindex(pd.date_range(vol.index[0],vol.index[-1],freq=freq))\n",
    "\n",
    "# high = pd.DataFrame(high).astype(float)\n",
    "# high = high.reindex(pd.date_range(high.index[0],high.index[-1],freq=freq))\n",
    "\n",
    "# low = pd.DataFrame(low).astype(float)\n",
    "# low = low.reindex(pd.date_range(low.index[0],low.index[-1],freq=freq))\n",
    "\n",
    "# ret = px.pct_change()\n",
    "\n",
    "# px.to_pickle('full_usdt_df_'+ freq+'_px.pkl')\n",
    "# ret.to_pickle('full_usdt_df_'+ freq+'_ret.pkl')\n",
    "# vol.to_pickle('full_usdt_df_'+ freq+'_vol.pkl')\n",
    "# high.to_pickle('full_usdt_df_'+ freq+'_high.pkl')\n",
    "# low.to_pickle('full_usdt_df_'+ freq+'_low.pkl')"
   ]
  },
  {
   "cell_type": "code",
   "execution_count": 22,
   "id": "4e2c7d25-67e2-4bb3-8d53-c1bb44f724d0",
   "metadata": {},
   "outputs": [],
   "source": [
    "# Load data\n",
    "px = pd.read_pickle('full_usdt_df_1d_px.pkl') #change file based on frequency\n",
    "ret = pd.read_pickle('full_usdt_df_1d_ret.pkl') #change file based on frequency\n",
    "vol = pd.read_pickle('full_usdt_df_1d_vol.pkl') #change file based on frequency\n",
    "high = pd.read_pickle('full_usdt_df_1d_high.pkl') #change file based on frequency\n",
    "low = pd.read_pickle('full_usdt_df_1d_low.pkl') #change file based on frequency"
   ]
  },
  {
   "cell_type": "code",
   "execution_count": 39,
   "id": "de14000e-e636-433a-9566-86aa082305bf",
   "metadata": {},
   "outputs": [],
   "source": [
    "# Keep \"relevant\" coins\n",
    "price_vol = px.mean()*vol.mean()\n",
    "\n",
    "threshold = 100_000\n",
    "big_coins = price_vol[price_vol > threshold].index\n",
    "\n",
    "ret_big = ret[big_coins]"
   ]
  },
  {
   "cell_type": "markdown",
   "id": "7a86bd46-80da-4a0e-9070-4122252d9a70",
   "metadata": {},
   "source": [
    "## Functions\n",
    "\n",
    "Functions used in the strategy"
   ]
  },
  {
   "cell_type": "code",
   "execution_count": 24,
   "id": "d81b215e-be34-45a1-9b68-526d2c01dc42",
   "metadata": {},
   "outputs": [],
   "source": [
    "# Define average functions\n",
    "\n",
    "# Simple moving average\n",
    "def sma(asset_df, avg_time):\n",
    "    return asset_df.rolling(window=avg_time).mean()\n",
    "\n",
    "# Exponential (weighted) moving average\n",
    "def ema(asset_df, alpha):\n",
    "    return asset_df.ewm(alpha=alpha, adjust=False).mean()   \n"
   ]
  },
  {
   "cell_type": "code",
   "execution_count": 25,
   "id": "b061a4fe-d8b1-4be8-ab0d-a73aa88e61d2",
   "metadata": {},
   "outputs": [],
   "source": [
    "# Create a returns object\n",
    "\n",
    "class returns:\n",
    "\n",
    "    \"\"\"Returns object:\n",
    "       \n",
    "       Given a portfolio of signals (port) and percent returns of a security (ret), this will output common metrics and variables used in\n",
    "       performance evaluation and analysis.\n",
    "\n",
    "       The purify() method performs a linear regression and extracts the residual from that regression. Pass in the appropriate beta for\n",
    "       your regression.\n",
    "       \"\"\"\n",
    "    \n",
    "    def __init__(self, port, ret):\n",
    "        self.port = port\n",
    "        self.ret = ret\n",
    "\n",
    "    # Normalize portfolio, usually done before gen_returns()\n",
    "    def norm(self):\n",
    "        self.port = self.port.divide(self.port.abs().sum(1),0).fillna(0) # normalize rows\n",
    "\n",
    "    # Calculate returns and evaluation metrics\n",
    "    def gen_returns(self, tcost_bps=20, N_trades = 365, print_results=True):\n",
    "        self.gross_ret = (self.port.shift()*self.ret).sum(1)\n",
    "        self.to = (self.port.fillna(0) - self.port.shift().fillna(0)).abs().sum(1)\n",
    "        self.mean_tcost = self.to.mean()*tcost_bps*1e-4\n",
    "        self.net_ret = self.gross_ret.subtract(self.to*tcost_bps*1e-4,fill_value=0)\n",
    "        self.mean_gross = self.gross_ret.mean()\n",
    "        \n",
    "        if print_results:\n",
    "            print(\"Mean gross returns:\", self.mean_gross,\n",
    "             \"\\nMean tcosts:\", self.mean_tcost,\n",
    "             \"\\nMean net returns:\", self.net_ret.mean(),\n",
    "             \"\\nGross Sharpe:\", self.gross_ret.mean()/self.gross_ret.std()*np.sqrt(N_trades), \n",
    "             \"\\nNet Sharpe:\", self.net_ret.mean()/self.net_ret.std()*np.sqrt(N_trades),\n",
    "             \"\\nMean turnover:\", self.to.mean())\n",
    "\n",
    "    # Purify strategy: Does linear regression on chosen beta and outputs alpha and information ratio\n",
    "    def purify(self, beta, N_trades = 365, print_results=True):\n",
    "        Y = self.net_ret\n",
    "        X = beta\n",
    "        X = sm.add_constant(X)\n",
    "        \n",
    "        results = sm.OLS(Y, X).fit()\n",
    "        self.alpha = results.params['const'] + results.resid\n",
    "        self.ir = self.alpha.mean()/self.alpha.std()*np.sqrt(N_trades)\n",
    "        \n",
    "        if print_results:\n",
    "            print(\"params:\",\n",
    "            '\\n',results.params,\n",
    "            \"\\nt-values:\", \n",
    "            '\\n',results.tvalues,\n",
    "            '\\nInfo Ratio:', self.ir)\n",
    "\n"
   ]
  },
  {
   "cell_type": "code",
   "execution_count": 26,
   "id": "68ee94cd-0d63-4a57-8028-e4d1ddafba87",
   "metadata": {},
   "outputs": [],
   "source": [
    "# Directional index equations\n",
    "\n",
    "def di_trend(high, low, close, alpha):\n",
    "\n",
    "    # Positive directional movement\n",
    "    pos_dm_condition = (high - high.shift(-1) > low.shift(-1) - low) & (high > high.shift(-1))\n",
    "    pos_dm = (high - high.shift(-1)).where(pos_dm_condition, 0)\n",
    "\n",
    "    # Negative directional movement\n",
    "    neg_dm_condition = (high - high.shift(-1) < low.shift(-1) - low) & (low < low.shift(-1))\n",
    "    neg_dm = (low.shift(-1) - low).where(neg_dm_condition, 0)\n",
    "\n",
    "    # True Range\n",
    "    hl = high - low\n",
    "    hc = (high - close.shift(-1)).abs()\n",
    "    cl = (close.shift(-1) - low).abs()   \n",
    "    stacked = np.stack([hl.values, hc.values, cl.values], axis=0)\n",
    "    tr = np.max(stacked, axis=0)\n",
    "    tr = pd.DataFrame(tr, index=high.index, columns=high.columns)\n",
    "\n",
    "    # Average directional index\n",
    "    atr = ema(tr, alpha)\n",
    "    pdi = ema(pos_dm, alpha)/atr\n",
    "    ndi = ema(neg_dm, alpha)/atr\n",
    "\n",
    "    di = (pdi-ndi).abs()/(pdi+ndi)\n",
    "    di_sign = np.sign(pdi-ndi)\n",
    "\n",
    "    return di, di_sign\n",
    "\n",
    "# Make trend crossing functions\n",
    "\n",
    "def trend_crossing(asset, fit, trend, threshold=0.3):\n",
    "    \n",
    "    diff = (asset - fit)/fit\n",
    "\n",
    "    # Detect trend crossing with sign change and threshold on crossing strength and direction\n",
    "    cross = diff.where(diff.shift()*diff < 0)\n",
    "    cross = cross.where(trend.abs() >= threshold) \n",
    "    cross = cross.mask(cross > 0, 1).mask(cross < 0, -1)\n",
    "    cross.ffill(inplace=True)  # Forward fill to maintain previous value\n",
    "    \n",
    "    return cross.fillna(0)"
   ]
  },
  {
   "cell_type": "markdown",
   "id": "fa897012-438e-456b-90de-3242d9300bd3",
   "metadata": {},
   "source": [
    "## Directional Index Analysis"
   ]
  },
  {
   "cell_type": "code",
   "execution_count": 28,
   "id": "45876e56-0fc8-4fb9-a12c-9a75978e05b0",
   "metadata": {},
   "outputs": [],
   "source": [
    "# Make trend crossing functions\n",
    "\n",
    "def trend_crossing(asset, fit, trend, threshold=0.3):\n",
    "    \n",
    "    diff = (asset - fit)/fit\n",
    "    \n",
    "    cross = diff.where(diff.shift()*diff < 0)\n",
    "    cross = cross.where(trend.abs() >= threshold) \n",
    "    cross = cross.mask(cross > 0, 1).mask(cross < 0, -1)\n",
    "    cross.ffill(inplace=True)  # Forward fill to maintain previous value\n",
    "    \n",
    "    return cross.fillna(0)\n",
    "\n",
    "def channel_crossing(asset, fit, threshold=0.02): #asset in cumulative returns\n",
    "    diff = (asset - fit)/fit\n",
    "    \n",
    "    cross = diff.where(diff.shift()*diff < 0)\n",
    "    cross = cross.where(diff.abs() >= threshold) \n",
    "    cross = cross.mask(cross > 0, 1).mask(cross < 0, -1)\n",
    "    cross.ffill(inplace=True)  # Forward fill to maintain previous value\n",
    "    \n",
    "    return cross.fillna(0)\n",
    "\n",
    "def crossing(asset, fit): #asset in cummulative returns\n",
    "    h = asset - fit\n",
    "    cross = h.where(h.shift()*h < 0)\n",
    "    cross = cross.mask(cross > 0, 1).mask(cross < 0, -1)\n",
    "    cross.ffill(inplace=True)  # Forward fill to maintain previous value\n",
    "    return cross.fillna(0)"
   ]
  },
  {
   "cell_type": "markdown",
   "id": "c0d410eb-01ef-4b3d-b53f-2cf7d5235184",
   "metadata": {},
   "source": [
    "## Split training data into cross-sectional training set"
   ]
  },
  {
   "cell_type": "code",
   "execution_count": 41,
   "id": "1973c34a-0d83-4885-969c-ad894724d70b",
   "metadata": {},
   "outputs": [],
   "source": [
    "# Select random columns from high market cap coins\n",
    "ret_train = ret_big.fillna(0).sample(n=ret_big.shape[1]//2, axis=1, random_state=42)\n",
    "train_cols = ret_train.columns\n",
    "high_train= high[train_cols].fillna(0)\n",
    "low_train = low[train_cols].fillna(0)\n",
    "close_train = px[train_cols].fillna(0)"
   ]
  },
  {
   "cell_type": "code",
   "execution_count": 42,
   "id": "b97b8dc5-3bcc-475e-af26-2745bb8a03e4",
   "metadata": {},
   "outputs": [
    {
     "name": "stdout",
     "output_type": "stream",
     "text": [
      "Mean gross returns: 0.002263712793344377 \n",
      "Mean tcosts: 0.000175702495982579 \n",
      "Mean net returns: 0.002088010297361798 \n",
      "Gross Sharpe: 1.5829321325809602 \n",
      "Net Sharpe: 1.4591489721460391 \n",
      "Mean turnover: 0.08785124799128949\n",
      "params: \n",
      " const    0.001989\n",
      "0        0.004217\n",
      "dtype: float64 \n",
      "t-values: \n",
      " const    3.201805\n",
      "0        3.597498\n",
      "dtype: float64 \n",
      "Info Ratio: 1.394839571822871\n"
     ]
    },
    {
     "data": {
      "text/plain": [
       "<Axes: title={'center': 'Alpha: Directional Index Signal'}>"
      ]
     },
     "execution_count": 42,
     "metadata": {},
     "output_type": "execute_result"
    },
    {
     "data": {
      "image/png": "[encoded data removed]",
      "text/plain": [
       "<Figure size 640x480 with 1 Axes>"
      ]
     },
     "metadata": {},
     "output_type": "display_data"
    }
   ],
   "source": [
    "# Make trend\n",
    "alpha = 0.35 \n",
    "thresh = 0.25\n",
    "di = di_trend(high_train,low_train,close_train,alpha)\n",
    "\n",
    "# Fits for trend\n",
    "asset = sma(ret_train, 5).cumsum()\n",
    "fit = ema(ret_train, 0.1).cumsum()\n",
    "\n",
    "# Momemtum signal\n",
    "port = trend_crossing(asset, fit, di[0], threshold=0.2)\n",
    "\n",
    "rets = returns(port, ret)\n",
    "rets.norm()\n",
    "rets.gen_returns()\n",
    "\n",
    "beta = ret_train.sum(1)\n",
    "rets.purify(beta)\n",
    "rets.alpha.cumsum().plot(title='Alpha: Directional Index Signal', xlabel = \"Date\")"
   ]
  }
 ],
 "metadata": {
  "kernelspec": {
   "display_name": "Python 3 (ipykernel)",
   "language": "python",
   "name": "python3"
  },
  "language_info": {
   "codemirror_mode": {
    "name": "ipython",
    "version": 3
   },
   "file_extension": ".py",
   "mimetype": "text/x-python",
   "name": "python",
   "nbconvert_exporter": "python",
   "pygments_lexer": "ipython3",
   "version": "3.11.7"
  }
 },
 "nbformat": 4,
 "nbformat_minor": 5
}
