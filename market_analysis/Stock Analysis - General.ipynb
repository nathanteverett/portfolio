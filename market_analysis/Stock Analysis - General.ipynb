{
 "cells": [
  {
   "cell_type": "code",
   "execution_count": 1,
   "id": "85750213-06e2-4ab0-a078-be11d5aaca49",
   "metadata": {},
   "outputs": [],
   "source": [
    "import numpy as np\n",
    "import matplotlib.pyplot as plt\n",
    "import seaborn as sns\n",
    "import yfinance as yf\n",
    "from yahoofinancials import YahooFinancials\n",
    "import pandas as pd\n",
    "\n",
    "sns.set()"
   ]
  },
  {
   "cell_type": "markdown",
   "id": "251d96d8-d85d-411f-b44e-c47a56dc90b0",
   "metadata": {},
   "source": [
    "## Questions\n",
    "1. How long to back test for?"
   ]
  },
  {
   "cell_type": "code",
   "execution_count": 2,
   "id": "7bdfb855-c1e5-4e52-91bf-d58f41a46aac",
   "metadata": {},
   "outputs": [
    {
     "data": {
      "text/plain": [
       "{'address1': 'One Apple Park Way',\n",
       " 'city': 'Cupertino',\n",
       " 'state': 'CA',\n",
       " 'zip': '95014',\n",
       " 'country': 'United States',\n",
       " 'phone': '(408) 996-1010',\n",
       " 'website': 'https://www.apple.com',\n",
       " 'industry': 'Consumer Electronics',\n",
       " 'industryKey': 'consumer-electronics',\n",
       " 'industryDisp': 'Consumer Electronics',\n",
       " 'sector': 'Technology',\n",
       " 'sectorKey': 'technology',\n",
       " 'sectorDisp': 'Technology',\n",
       " 'longBusinessSummary': 'Apple Inc. designs, manufactures, and markets smartphones, personal computers, tablets, wearables, and accessories worldwide. The company offers iPhone, a line of smartphones; Mac, a line of personal computers; iPad, a line of multi-purpose tablets; and wearables, home, and accessories comprising AirPods, Apple TV, Apple Watch, Beats products, and HomePod. It also provides AppleCare support and cloud services; and operates various platforms, including the App Store that allow customers to discover and download applications and digital content, such as books, music, video, games, and podcasts, as well as advertising services include third-party licensing arrangements and its own advertising platforms. In addition, the company offers various subscription-based services, such as Apple Arcade, a game subscription service; Apple Fitness+, a personalized fitness service; Apple Music, which offers users a curated listening experience with on-demand radio stations; Apple News+, a subscription news and magazine service; Apple TV+, which offers exclusive original content; Apple Card, a co-branded credit card; and Apple Pay, a cashless payment service, as well as licenses its intellectual property. The company serves consumers, and small and mid-sized businesses; and the education, enterprise, and government markets. It distributes third-party applications for its products through the App Store. The company also sells its products through its retail and online stores, and direct sales force; and third-party cellular network carriers, wholesalers, retailers, and resellers. Apple Inc. was founded in 1976 and is headquartered in Cupertino, California.',\n",
       " 'fullTimeEmployees': 164000,\n",
       " 'companyOfficers': [{'maxAge': 1,\n",
       "   'name': 'Mr. Timothy D. Cook',\n",
       "   'age': 63,\n",
       "   'title': 'CEO & Director',\n",
       "   'yearBorn': 1961,\n",
       "   'fiscalYear': 2023,\n",
       "   'totalPay': 16239562,\n",
       "   'exercisedValue': 0,\n",
       "   'unexercisedValue': 0},\n",
       "  {'maxAge': 1,\n",
       "   'name': 'Mr. Jeffrey E. Williams',\n",
       "   'age': 60,\n",
       "   'title': 'Chief Operating Officer',\n",
       "   'yearBorn': 1964,\n",
       "   'fiscalYear': 2023,\n",
       "   'totalPay': 4637585,\n",
       "   'exercisedValue': 0,\n",
       "   'unexercisedValue': 0},\n",
       "  {'maxAge': 1,\n",
       "   'name': 'Ms. Katherine L. Adams',\n",
       "   'age': 60,\n",
       "   'title': 'Senior VP, General Counsel & Secretary',\n",
       "   'yearBorn': 1964,\n",
       "   'fiscalYear': 2023,\n",
       "   'totalPay': 4618064,\n",
       "   'exercisedValue': 0,\n",
       "   'unexercisedValue': 0},\n",
       "  {'maxAge': 1,\n",
       "   'name': \"Ms. Deirdre  O'Brien\",\n",
       "   'age': 57,\n",
       "   'title': 'Chief People Officer & Senior VP of Retail',\n",
       "   'yearBorn': 1967,\n",
       "   'fiscalYear': 2023,\n",
       "   'totalPay': 4613369,\n",
       "   'exercisedValue': 0,\n",
       "   'unexercisedValue': 0},\n",
       "  {'maxAge': 1,\n",
       "   'name': 'Mr. Kevan  Parekh',\n",
       "   'title': 'Chief Financial Officer',\n",
       "   'fiscalYear': 2023,\n",
       "   'exercisedValue': 0,\n",
       "   'unexercisedValue': 0},\n",
       "  {'maxAge': 1,\n",
       "   'name': 'Mr. Chris  Kondo',\n",
       "   'title': 'Senior Director of Corporate Accounting',\n",
       "   'fiscalYear': 2023,\n",
       "   'exercisedValue': 0,\n",
       "   'unexercisedValue': 0},\n",
       "  {'maxAge': 1,\n",
       "   'name': 'Suhasini  Chandramouli',\n",
       "   'title': 'Director of Investor Relations',\n",
       "   'fiscalYear': 2023,\n",
       "   'exercisedValue': 0,\n",
       "   'unexercisedValue': 0},\n",
       "  {'maxAge': 1,\n",
       "   'name': 'Mr. Greg  Joswiak',\n",
       "   'title': 'Senior Vice President of Worldwide Marketing',\n",
       "   'fiscalYear': 2023,\n",
       "   'exercisedValue': 0,\n",
       "   'unexercisedValue': 0},\n",
       "  {'maxAge': 1,\n",
       "   'name': 'Mr. Adrian  Perica',\n",
       "   'age': 50,\n",
       "   'title': 'Head of Corporate Development',\n",
       "   'yearBorn': 1974,\n",
       "   'fiscalYear': 2023,\n",
       "   'exercisedValue': 0,\n",
       "   'unexercisedValue': 0},\n",
       "  {'maxAge': 1,\n",
       "   'name': 'Mr. Michael  Fenger',\n",
       "   'title': 'VP of Worldwide Sales',\n",
       "   'fiscalYear': 2023,\n",
       "   'exercisedValue': 0,\n",
       "   'unexercisedValue': 0}],\n",
       " 'auditRisk': 3,\n",
       " 'boardRisk': 1,\n",
       " 'compensationRisk': 3,\n",
       " 'shareHolderRightsRisk': 1,\n",
       " 'overallRisk': 1,\n",
       " 'governanceEpochDate': 1735689600,\n",
       " 'compensationAsOfEpochDate': 1703980800,\n",
       " 'irWebsite': 'http://investor.apple.com/',\n",
       " 'maxAge': 86400,\n",
       " 'priceHint': 2,\n",
       " 'previousClose': 243.85,\n",
       " 'open': 243.37,\n",
       " 'dayLow': 241.89,\n",
       " 'dayHigh': 244.18,\n",
       " 'regularMarketPreviousClose': 243.85,\n",
       " 'regularMarketOpen': 243.37,\n",
       " 'regularMarketDayLow': 241.89,\n",
       " 'regularMarketDayHigh': 244.18,\n",
       " 'dividendRate': 1.0,\n",
       " 'dividendYield': 0.0041,\n",
       " 'exDividendDate': 1731024000,\n",
       " 'payoutRatio': 0.1612,\n",
       " 'fiveYearAvgDividendYield': 0.61,\n",
       " 'beta': 1.24,\n",
       " 'trailingPE': 40.026318,\n",
       " 'forwardPE': 29.290522,\n",
       " 'volume': 40244114,\n",
       " 'regularMarketVolume': 40244114,\n",
       " 'averageVolume': 44012600,\n",
       " 'averageVolume10days': 51304510,\n",
       " 'averageDailyVolume10Day': 51304510,\n",
       " 'bid': 231.09,\n",
       " 'ask': 255.61,\n",
       " 'bidSize': 100,\n",
       " 'askSize': 100,\n",
       " 'marketCap': 3678581030912,\n",
       " 'fiftyTwoWeekLow': 164.08,\n",
       " 'fiftyTwoWeekHigh': 260.1,\n",
       " 'priceToSalesTrailing12Months': 9.407293,\n",
       " 'fiftyDayAverage': 237.9004,\n",
       " 'twoHundredDayAverage': 214.0956,\n",
       " 'trailingAnnualDividendRate': 0.98,\n",
       " 'trailingAnnualDividendYield': 0.004018864,\n",
       " 'currency': 'USD',\n",
       " 'enterpriseValue': 3732474691584,\n",
       " 'profitMargins': 0.23971,\n",
       " 'floatShares': 15091184209,\n",
       " 'sharesOutstanding': 15115799552,\n",
       " 'sharesShort': 156458273,\n",
       " 'sharesShortPriorMonth': 141037864,\n",
       " 'sharesShortPreviousMonthDate': 1731628800,\n",
       " 'dateShortInterest': 1734048000,\n",
       " 'sharesPercentSharesOut': 0.0104,\n",
       " 'heldPercentInsiders': 0.02056,\n",
       " 'heldPercentInstitutions': 0.61925,\n",
       " 'shortRatio': 3.67,\n",
       " 'shortPercentOfFloat': 0.0104,\n",
       " 'impliedSharesOutstanding': 15146300416,\n",
       " 'bookValue': 3.767,\n",
       " 'priceToBook': 64.603134,\n",
       " 'lastFiscalYearEnd': 1727481600,\n",
       " 'nextFiscalYearEnd': 1759017600,\n",
       " 'mostRecentQuarter': 1727481600,\n",
       " 'earningsQuarterlyGrowth': -0.358,\n",
       " 'netIncomeToCommon': 93736001536,\n",
       " 'trailingEps': 6.08,\n",
       " 'forwardEps': 8.31,\n",
       " 'lastSplitFactor': '4:1',\n",
       " 'lastSplitDate': 1598832000,\n",
       " 'enterpriseToRevenue': 9.545,\n",
       " 'enterpriseToEbitda': 27.718,\n",
       " '52WeekChange': 0.31148958,\n",
       " 'SandP52WeekChange': 0.24749029,\n",
       " 'lastDividendValue': 0.25,\n",
       " 'lastDividendDate': 1731024000,\n",
       " 'exchange': 'NMS',\n",
       " 'quoteType': 'EQUITY',\n",
       " 'symbol': 'AAPL',\n",
       " 'underlyingSymbol': 'AAPL',\n",
       " 'shortName': 'Apple Inc.',\n",
       " 'longName': 'Apple Inc.',\n",
       " 'firstTradeDateEpochUtc': 345479400,\n",
       " 'timeZoneFullName': 'America/New_York',\n",
       " 'timeZoneShortName': 'EST',\n",
       " 'uuid': '8b10e4ae-9eeb-3684-921a-9ab27e4d87aa',\n",
       " 'messageBoardId': 'finmb_24937',\n",
       " 'gmtOffSetMilliseconds': -18000000,\n",
       " 'currentPrice': 243.36,\n",
       " 'targetHighPrice': 325.0,\n",
       " 'targetLowPrice': 184.0,\n",
       " 'targetMeanPrice': 247.32976,\n",
       " 'targetMedianPrice': 250.0,\n",
       " 'recommendationMean': 1.89362,\n",
       " 'recommendationKey': 'buy',\n",
       " 'numberOfAnalystOpinions': 42,\n",
       " 'totalCash': 65171001344,\n",
       " 'totalCashPerShare': 4.311,\n",
       " 'ebitda': 134660997120,\n",
       " 'totalDebt': 119058997248,\n",
       " 'quickRatio': 0.745,\n",
       " 'currentRatio': 0.867,\n",
       " 'totalRevenue': 391034994688,\n",
       " 'debtToEquity': 209.059,\n",
       " 'revenuePerShare': 25.485,\n",
       " 'returnOnAssets': 0.21464,\n",
       " 'returnOnEquity': 1.5741299,\n",
       " 'freeCashflow': 110846001152,\n",
       " 'operatingCashflow': 118254002176,\n",
       " 'earningsGrowth': -0.341,\n",
       " 'revenueGrowth': 0.061,\n",
       " 'grossMargins': 0.46206,\n",
       " 'ebitdaMargins': 0.34437,\n",
       " 'operatingMargins': 0.31171,\n",
       " 'financialCurrency': 'USD',\n",
       " 'trailingPegRatio': 2.2251}"
      ]
     },
     "execution_count": 2,
     "metadata": {},
     "output_type": "execute_result"
    }
   ],
   "source": [
    "dat = yf.Ticker('AAPL')\n",
    "dat.info"
   ]
  },
  {
   "cell_type": "code",
   "execution_count": 3,
   "id": "9ef117a2-ab9e-4cac-a187-d6db1c15b6a2",
   "metadata": {},
   "outputs": [
    {
     "name": "stderr",
     "output_type": "stream",
     "text": [
      "[*********************100%***********************]  1 of 1 completed\n"
     ]
    }
   ],
   "source": [
    "aapl_df = yf.download(['AAPL'],start='2004-01-01', end='2025-01-01')"
   ]
  },
  {
   "cell_type": "code",
   "execution_count": 4,
   "id": "4721f231-8ed5-4334-8189-e841b95a4686",
   "metadata": {},
   "outputs": [
    {
     "data": {
      "text/html": [
       "<div>\n",
       "<style scoped>\n",
       "    .dataframe tbody tr th:only-of-type {\n",
       "        vertical-align: middle;\n",
       "    }\n",
       "\n",
       "    .dataframe tbody tr th {\n",
       "        vertical-align: top;\n",
       "    }\n",
       "\n",
       "    .dataframe thead th {\n",
       "        text-align: right;\n",
       "    }\n",
       "</style>\n",
       "<table border=\"1\" class=\"dataframe\">\n",
       "  <thead>\n",
       "    <tr style=\"text-align: right;\">\n",
       "      <th></th>\n",
       "      <th>contractSymbol</th>\n",
       "      <th>lastTradeDate</th>\n",
       "      <th>strike</th>\n",
       "      <th>lastPrice</th>\n",
       "      <th>bid</th>\n",
       "      <th>ask</th>\n",
       "      <th>change</th>\n",
       "      <th>percentChange</th>\n",
       "      <th>volume</th>\n",
       "      <th>openInterest</th>\n",
       "      <th>impliedVolatility</th>\n",
       "      <th>inTheMoney</th>\n",
       "      <th>contractSize</th>\n",
       "      <th>currency</th>\n",
       "    </tr>\n",
       "  </thead>\n",
       "  <tbody>\n",
       "    <tr>\n",
       "      <th>0</th>\n",
       "      <td>AAPL250110C00105000</td>\n",
       "      <td>2024-12-27 16:41:06+00:00</td>\n",
       "      <td>105.0</td>\n",
       "      <td>149.60</td>\n",
       "      <td>138.05</td>\n",
       "      <td>139.45</td>\n",
       "      <td>0.0</td>\n",
       "      <td>0.0</td>\n",
       "      <td>1.0</td>\n",
       "      <td>8.0</td>\n",
       "      <td>3.398439</td>\n",
       "      <td>True</td>\n",
       "      <td>REGULAR</td>\n",
       "      <td>USD</td>\n",
       "    </tr>\n",
       "    <tr>\n",
       "      <th>1</th>\n",
       "      <td>AAPL250110C00110000</td>\n",
       "      <td>2024-11-29 17:01:29+00:00</td>\n",
       "      <td>110.0</td>\n",
       "      <td>127.73</td>\n",
       "      <td>0.00</td>\n",
       "      <td>0.00</td>\n",
       "      <td>0.0</td>\n",
       "      <td>0.0</td>\n",
       "      <td>2.0</td>\n",
       "      <td>2.0</td>\n",
       "      <td>0.000010</td>\n",
       "      <td>True</td>\n",
       "      <td>REGULAR</td>\n",
       "      <td>USD</td>\n",
       "    </tr>\n",
       "    <tr>\n",
       "      <th>2</th>\n",
       "      <td>AAPL250110C00115000</td>\n",
       "      <td>2025-01-02 17:37:35+00:00</td>\n",
       "      <td>115.0</td>\n",
       "      <td>127.90</td>\n",
       "      <td>128.05</td>\n",
       "      <td>129.45</td>\n",
       "      <td>0.0</td>\n",
       "      <td>0.0</td>\n",
       "      <td>1.0</td>\n",
       "      <td>6.0</td>\n",
       "      <td>3.058596</td>\n",
       "      <td>True</td>\n",
       "      <td>REGULAR</td>\n",
       "      <td>USD</td>\n",
       "    </tr>\n",
       "    <tr>\n",
       "      <th>3</th>\n",
       "      <td>AAPL250110C00120000</td>\n",
       "      <td>2024-12-27 16:29:00+00:00</td>\n",
       "      <td>120.0</td>\n",
       "      <td>134.65</td>\n",
       "      <td>123.00</td>\n",
       "      <td>124.50</td>\n",
       "      <td>0.0</td>\n",
       "      <td>0.0</td>\n",
       "      <td>1.0</td>\n",
       "      <td>26.0</td>\n",
       "      <td>2.902346</td>\n",
       "      <td>True</td>\n",
       "      <td>REGULAR</td>\n",
       "      <td>USD</td>\n",
       "    </tr>\n",
       "    <tr>\n",
       "      <th>4</th>\n",
       "      <td>AAPL250110C00125000</td>\n",
       "      <td>2024-12-27 17:03:06+00:00</td>\n",
       "      <td>125.0</td>\n",
       "      <td>128.65</td>\n",
       "      <td>118.00</td>\n",
       "      <td>119.50</td>\n",
       "      <td>0.0</td>\n",
       "      <td>0.0</td>\n",
       "      <td>1.0</td>\n",
       "      <td>15.0</td>\n",
       "      <td>2.750003</td>\n",
       "      <td>True</td>\n",
       "      <td>REGULAR</td>\n",
       "      <td>USD</td>\n",
       "    </tr>\n",
       "  </tbody>\n",
       "</table>\n",
       "</div>"
      ],
      "text/plain": [
       "        contractSymbol             lastTradeDate  strike  lastPrice     bid  \\\n",
       "0  AAPL250110C00105000 2024-12-27 16:41:06+00:00   105.0     149.60  138.05   \n",
       "1  AAPL250110C00110000 2024-11-29 17:01:29+00:00   110.0     127.73    0.00   \n",
       "2  AAPL250110C00115000 2025-01-02 17:37:35+00:00   115.0     127.90  128.05   \n",
       "3  AAPL250110C00120000 2024-12-27 16:29:00+00:00   120.0     134.65  123.00   \n",
       "4  AAPL250110C00125000 2024-12-27 17:03:06+00:00   125.0     128.65  118.00   \n",
       "\n",
       "      ask  change  percentChange  volume  openInterest  impliedVolatility  \\\n",
       "0  139.45     0.0            0.0     1.0           8.0           3.398439   \n",
       "1    0.00     0.0            0.0     2.0           2.0           0.000010   \n",
       "2  129.45     0.0            0.0     1.0           6.0           3.058596   \n",
       "3  124.50     0.0            0.0     1.0          26.0           2.902346   \n",
       "4  119.50     0.0            0.0     1.0          15.0           2.750003   \n",
       "\n",
       "   inTheMoney contractSize currency  \n",
       "0        True      REGULAR      USD  \n",
       "1        True      REGULAR      USD  \n",
       "2        True      REGULAR      USD  \n",
       "3        True      REGULAR      USD  \n",
       "4        True      REGULAR      USD  "
      ]
     },
     "execution_count": 4,
     "metadata": {},
     "output_type": "execute_result"
    }
   ],
   "source": [
    "aapl = yf.Ticker(\"AAPL\")\n",
    "aapl_options = aapl.options\n",
    "# aapl_options\n",
    "aapl_calls = aapl.option_chain(aapl.options[0]).calls\n",
    "aapl_calls.head()"
   ]
  },
  {
   "cell_type": "markdown",
   "id": "65261aa2-4155-4d76-a802-ec40104b1871",
   "metadata": {},
   "source": [
    "### Start with simple SMA model on AAPL stock"
   ]
  },
  {
   "cell_type": "code",
   "execution_count": 5,
   "id": "f0128f21-f16e-4aaf-bd6f-cb2345bb67b1",
   "metadata": {},
   "outputs": [
    {
     "data": {
      "text/plain": [
       "'AAPL'"
      ]
     },
     "execution_count": 5,
     "metadata": {},
     "output_type": "execute_result"
    }
   ],
   "source": [
    "aapl = yf.Ticker('AAPL')\n",
    "aapl.info\n",
    "aapl.ticker"
   ]
  },
  {
   "cell_type": "code",
   "execution_count": 6,
   "id": "9a037a29-8ee4-4f5b-b8a0-d04883e8ab15",
   "metadata": {},
   "outputs": [
    {
     "data": {
      "text/html": [
       "<div>\n",
       "<style scoped>\n",
       "    .dataframe tbody tr th:only-of-type {\n",
       "        vertical-align: middle;\n",
       "    }\n",
       "\n",
       "    .dataframe tbody tr th {\n",
       "        vertical-align: top;\n",
       "    }\n",
       "\n",
       "    .dataframe thead th {\n",
       "        text-align: right;\n",
       "    }\n",
       "</style>\n",
       "<table border=\"1\" class=\"dataframe\">\n",
       "  <thead>\n",
       "    <tr style=\"text-align: right;\">\n",
       "      <th>Price</th>\n",
       "      <th>Close</th>\n",
       "      <th>High</th>\n",
       "      <th>Low</th>\n",
       "      <th>Open</th>\n",
       "      <th>Volume</th>\n",
       "    </tr>\n",
       "    <tr>\n",
       "      <th>Date</th>\n",
       "      <th></th>\n",
       "      <th></th>\n",
       "      <th></th>\n",
       "      <th></th>\n",
       "      <th></th>\n",
       "    </tr>\n",
       "  </thead>\n",
       "  <tbody>\n",
       "    <tr>\n",
       "      <th>2004-01-02</th>\n",
       "      <td>0.320548</td>\n",
       "      <td>0.327628</td>\n",
       "      <td>0.319041</td>\n",
       "      <td>0.324615</td>\n",
       "      <td>144642400</td>\n",
       "    </tr>\n",
       "    <tr>\n",
       "      <th>2004-01-05</th>\n",
       "      <td>0.333954</td>\n",
       "      <td>0.337268</td>\n",
       "      <td>0.322657</td>\n",
       "      <td>0.322657</td>\n",
       "      <td>395018400</td>\n",
       "    </tr>\n",
       "    <tr>\n",
       "      <th>2004-01-06</th>\n",
       "      <td>0.332749</td>\n",
       "      <td>0.337720</td>\n",
       "      <td>0.327026</td>\n",
       "      <td>0.335159</td>\n",
       "      <td>509348000</td>\n",
       "    </tr>\n",
       "    <tr>\n",
       "      <th>2004-01-07</th>\n",
       "      <td>0.340281</td>\n",
       "      <td>0.343896</td>\n",
       "      <td>0.330339</td>\n",
       "      <td>0.332900</td>\n",
       "      <td>586874400</td>\n",
       "    </tr>\n",
       "    <tr>\n",
       "      <th>2004-01-08</th>\n",
       "      <td>0.351880</td>\n",
       "      <td>0.357453</td>\n",
       "      <td>0.341184</td>\n",
       "      <td>0.344047</td>\n",
       "      <td>460303200</td>\n",
       "    </tr>\n",
       "  </tbody>\n",
       "</table>\n",
       "</div>"
      ],
      "text/plain": [
       "Price          Close      High       Low      Open     Volume\n",
       "Date                                                         \n",
       "2004-01-02  0.320548  0.327628  0.319041  0.324615  144642400\n",
       "2004-01-05  0.333954  0.337268  0.322657  0.322657  395018400\n",
       "2004-01-06  0.332749  0.337720  0.327026  0.335159  509348000\n",
       "2004-01-07  0.340281  0.343896  0.330339  0.332900  586874400\n",
       "2004-01-08  0.351880  0.357453  0.341184  0.344047  460303200"
      ]
     },
     "execution_count": 6,
     "metadata": {},
     "output_type": "execute_result"
    }
   ],
   "source": [
    "aapl_df = aapl_df #Looks stupid but is preventing downloading as a definition and undoes dropping columns\n",
    "aapl_df.columns = aapl_df.columns.droplevel(1)\n",
    "aapl_df.head()"
   ]
  },
  {
   "cell_type": "code",
   "execution_count": 7,
   "id": "b39b2e58-4aa8-4fec-86cb-3956a5675fef",
   "metadata": {},
   "outputs": [
    {
     "data": {
      "text/plain": [
       "<Axes: title={'center': \"Apple's 20yr Share Price\"}, xlabel='Date'>"
      ]
     },
     "execution_count": 7,
     "metadata": {},
     "output_type": "execute_result"
    },
    {
     "data": {
      "image/png": "[encoded data removed]",
      "text/plain": [
       "<Figure size 640x480 with 1 Axes>"
      ]
     },
     "metadata": {},
     "output_type": "display_data"
    }
   ],
   "source": [
    "# Print share price\n",
    "aapl_df['Close'].loc[\"2022-01-01\":\"2025-01-01\"].plot(title = \"Apple's 20yr Share Price\")"
   ]
  },
  {
   "cell_type": "code",
   "execution_count": 17,
   "id": "240af3ab-7803-40b2-a7f5-424611b30fc1",
   "metadata": {},
   "outputs": [],
   "source": [
    "def sma(asset_df, avg_time):\n",
    "    return asset_df.rolling(window=avg_time).mean()"
   ]
  },
  {
   "cell_type": "code",
   "execution_count": 18,
   "id": "c076ccd9-4235-426c-b804-b59c8aca1ed7",
   "metadata": {},
   "outputs": [
    {
     "data": {
      "text/plain": [
       "<matplotlib.legend.Legend at 0x231c373a210>"
      ]
     },
     "execution_count": 18,
     "metadata": {},
     "output_type": "execute_result"
    },
    {
     "data": {
      "image/png": "[encoded data removed]",
      "text/plain": [
       "<Figure size 640x480 with 1 Axes>"
      ]
     },
     "metadata": {},
     "output_type": "display_data"
    }
   ],
   "source": [
    "aapl_df['Close'].loc[\"2022-01-01\":\"2025-01-01\"].plot(title = \"Apple's 20yr Share Price\", label = 'Share price')\n",
    "sma(aapl_df['Close'].loc[\"2022-01-01\":\"2025-01-01\"], 20).plot(label = 'SMA')\n",
    "plt.legend()"
   ]
  },
  {
   "cell_type": "code",
   "execution_count": 19,
   "id": "59872510-cecc-41bb-ab06-d103b555de7a",
   "metadata": {},
   "outputs": [
    {
     "data": {
      "text/plain": [
       "Date\n",
       "2022-01-03   NaN\n",
       "2022-01-04   NaN\n",
       "2022-01-05   NaN\n",
       "2022-01-06   NaN\n",
       "2022-01-07   NaN\n",
       "Name: Close, dtype: float64"
      ]
     },
     "execution_count": 19,
     "metadata": {},
     "output_type": "execute_result"
    }
   ],
   "source": [
    "sma(aapl_df['Close'].loc[\"2022-01-01\":\"2025-01-01\"], 20).head()"
   ]
  },
  {
   "cell_type": "markdown",
   "id": "706a07dc-0607-444a-8eca-353fec195a15",
   "metadata": {},
   "source": [
    "### Simple strategy for testing\n",
    "If S(t) is below SMA by 10%, use 10% of initial cash to invest. Need to account for prolonged periods, so strategy ticks once per crossing.\n",
    "\n",
    "Pseudo-code:\n",
    "\n",
    "bought = False\n",
    "\n",
    "for s,t in S(t):\n",
    " \n",
    "    if S(t) < SMA*0.9 and bought = False and cash > 0:\n",
    "        if invest amount < cash:\n",
    "            print(\"Not enough cash\")\n",
    "        else:\n",
    "            n_shares = invest amount/S(t)\n",
    "            cash =- invest amount\n",
    "            bought = True\n",
    "    \n",
    "    if S(t) > SMA:\n",
    "        bought = False\n",
    "\n",
    "profit = portfolio - initial cash\n",
    "print(profit)"
   ]
  },
  {
   "cell_type": "code",
   "execution_count": 12,
   "id": "217b8b72-e410-4e6c-a20b-aad273b9e9a4",
   "metadata": {},
   "outputs": [
    {
     "data": {
      "text/plain": [
       "Date\n",
       "2004-01-02    0.320548\n",
       "2004-01-05    0.333954\n",
       "2004-01-06    0.332749\n",
       "2004-01-07    0.340281\n",
       "2004-01-08    0.351880\n",
       "Name: Close, dtype: float64"
      ]
     },
     "execution_count": 12,
     "metadata": {},
     "output_type": "execute_result"
    }
   ],
   "source": [
    "aapl_df['Close'].head()"
   ]
  },
  {
   "cell_type": "code",
   "execution_count": 25,
   "id": "f2a4f15f-60f4-4b02-aad3-22a46c2c839d",
   "metadata": {},
   "outputs": [
    {
     "data": {
      "text/plain": [
       "nan"
      ]
     },
     "execution_count": 25,
     "metadata": {},
     "output_type": "execute_result"
    }
   ],
   "source": [
    "sma(aapl_df['Close'], 20)['2004-01-02']"
   ]
  },
  {
   "cell_type": "code",
   "execution_count": 66,
   "id": "55186e1d-fcdf-4421-b97a-0d49fa3f9d11",
   "metadata": {},
   "outputs": [
    {
     "name": "stdout",
     "output_type": "stream",
     "text": [
      "Profit: 6251.801036449922 \n",
      "ROI: 62.51801036449922 \n",
      "leftover cash: 0.0\n"
     ]
    }
   ],
   "source": [
    "# Implement strategy\n",
    "\n",
    "bought = False\n",
    "cash = 10000\n",
    "# stock = aapl_20 = aapl_df['Close'] #full 20 yr data set\n",
    "stock = aapl_df['Close'].loc[\"2022-01-01\":\"2025-01-01\"] #2 year data set\n",
    "sma_aapl = sma(stock, 20)\n",
    "invest = cash*0.1\n",
    "n_shares = 0\n",
    "total_invest = 0\n",
    "\n",
    "for t,s in stock.items():\n",
    "    if not pd.isna(sma_aapl[t]):\n",
    "        if s < sma_aapl[t]*0.95 and bought == False:\n",
    "            if invest <= cash:\n",
    "                n_shares += invest/s\n",
    "                # print(f'Buying {invest/s} shares on {t}')\n",
    "                cash -= invest\n",
    "                total_invest += invest\n",
    "                bought = True\n",
    "            else:\n",
    "                # print('Ran out of cash')\n",
    "                break\n",
    "        if s > sma_aapl[t]:\n",
    "            bought = False\n",
    "\n",
    "profit = n_shares*stock.iloc[-1] - total_invest\n",
    "roi = profit/total_invest*100\n",
    "print(\"Profit:\", profit, \"\\nROI:\", roi, \"\\nleftover cash:\", cash)\n"
   ]
  },
  {
   "cell_type": "code",
   "execution_count": null,
   "id": "69e9e833-17aa-44b0-9a2a-8d0ec9a8dd79",
   "metadata": {},
   "outputs": [],
   "source": []
  }
 ],
 "metadata": {
  "kernelspec": {
   "display_name": "Python 3 (ipykernel)",
   "language": "python",
   "name": "python3"
  },
  "language_info": {
   "codemirror_mode": {
    "name": "ipython",
    "version": 3
   },
   "file_extension": ".py",
   "mimetype": "text/x-python",
   "name": "python",
   "nbconvert_exporter": "python",
   "pygments_lexer": "ipython3",
   "version": "3.11.7"
  }
 },
 "nbformat": 4,
 "nbformat_minor": 5
}
